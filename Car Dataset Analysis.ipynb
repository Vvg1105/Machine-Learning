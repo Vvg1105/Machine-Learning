{
 "cells": [
  {
   "cell_type": "code",
   "execution_count": 1,
   "id": "f017916a",
   "metadata": {},
   "outputs": [],
   "source": [
    "import pandas as pd\n",
    "df = pd.read_excel (r'/Users/vanshgadhia/Desktop/Machine Learning/CarDataset.xlsx')"
   ]
  },
  {
   "cell_type": "code",
   "execution_count": 2,
   "id": "1661df7a",
   "metadata": {},
   "outputs": [
    {
     "data": {
      "text/html": [
       "<div>\n",
       "<style scoped>\n",
       "    .dataframe tbody tr th:only-of-type {\n",
       "        vertical-align: middle;\n",
       "    }\n",
       "\n",
       "    .dataframe tbody tr th {\n",
       "        vertical-align: top;\n",
       "    }\n",
       "\n",
       "    .dataframe thead th {\n",
       "        text-align: right;\n",
       "    }\n",
       "</style>\n",
       "<table border=\"1\" class=\"dataframe\">\n",
       "  <thead>\n",
       "    <tr style=\"text-align: right;\">\n",
       "      <th></th>\n",
       "      <th>Color</th>\n",
       "      <th>Type</th>\n",
       "      <th>Origin</th>\n",
       "      <th>Stolen?</th>\n",
       "    </tr>\n",
       "  </thead>\n",
       "  <tbody>\n",
       "    <tr>\n",
       "      <th>0</th>\n",
       "      <td>Red</td>\n",
       "      <td>Sports</td>\n",
       "      <td>Domestic</td>\n",
       "      <td>Yes</td>\n",
       "    </tr>\n",
       "    <tr>\n",
       "      <th>1</th>\n",
       "      <td>Red</td>\n",
       "      <td>Sports</td>\n",
       "      <td>Domestic</td>\n",
       "      <td>No</td>\n",
       "    </tr>\n",
       "    <tr>\n",
       "      <th>2</th>\n",
       "      <td>Red</td>\n",
       "      <td>Sports</td>\n",
       "      <td>Domestic</td>\n",
       "      <td>Yes</td>\n",
       "    </tr>\n",
       "    <tr>\n",
       "      <th>3</th>\n",
       "      <td>Yellow</td>\n",
       "      <td>Sports</td>\n",
       "      <td>Domestic</td>\n",
       "      <td>No</td>\n",
       "    </tr>\n",
       "    <tr>\n",
       "      <th>4</th>\n",
       "      <td>Yellow</td>\n",
       "      <td>Sports</td>\n",
       "      <td>Imported</td>\n",
       "      <td>Yes</td>\n",
       "    </tr>\n",
       "    <tr>\n",
       "      <th>5</th>\n",
       "      <td>Yellow</td>\n",
       "      <td>SUV</td>\n",
       "      <td>Imported</td>\n",
       "      <td>No</td>\n",
       "    </tr>\n",
       "    <tr>\n",
       "      <th>6</th>\n",
       "      <td>Yellow</td>\n",
       "      <td>SUV</td>\n",
       "      <td>Imported</td>\n",
       "      <td>Yes</td>\n",
       "    </tr>\n",
       "    <tr>\n",
       "      <th>7</th>\n",
       "      <td>Yellow</td>\n",
       "      <td>SUV</td>\n",
       "      <td>Domestic</td>\n",
       "      <td>No</td>\n",
       "    </tr>\n",
       "    <tr>\n",
       "      <th>8</th>\n",
       "      <td>Red</td>\n",
       "      <td>SUV</td>\n",
       "      <td>Imported</td>\n",
       "      <td>No</td>\n",
       "    </tr>\n",
       "    <tr>\n",
       "      <th>9</th>\n",
       "      <td>Red</td>\n",
       "      <td>Sports</td>\n",
       "      <td>Imported</td>\n",
       "      <td>Yes</td>\n",
       "    </tr>\n",
       "  </tbody>\n",
       "</table>\n",
       "</div>"
      ],
      "text/plain": [
       "    Color    Type    Origin Stolen?\n",
       "0     Red  Sports  Domestic     Yes\n",
       "1     Red  Sports  Domestic      No\n",
       "2     Red  Sports  Domestic     Yes\n",
       "3  Yellow  Sports  Domestic      No\n",
       "4  Yellow  Sports  Imported     Yes\n",
       "5  Yellow     SUV  Imported      No\n",
       "6  Yellow     SUV  Imported     Yes\n",
       "7  Yellow     SUV  Domestic      No\n",
       "8     Red     SUV  Imported      No\n",
       "9     Red  Sports  Imported     Yes"
      ]
     },
     "execution_count": 2,
     "metadata": {},
     "output_type": "execute_result"
    }
   ],
   "source": [
    "df"
   ]
  },
  {
   "cell_type": "code",
   "execution_count": 4,
   "id": "128a2418",
   "metadata": {},
   "outputs": [
    {
     "name": "stdout",
     "output_type": "stream",
     "text": [
      "Please type in a color: Red\n",
      "Please type in the type of the car: SUV\n",
      "Please type in the origin of the car: Domestic\n"
     ]
    }
   ],
   "source": [
    "COLOR = input(\"Please type in a color: \")\n",
    "TYPE = input(\"Please type in the type of the car: \")\n",
    "ORIGIN = input(\"Please type in the origin of the car: \")\n",
    "arr_in=[]"
   ]
  },
  {
   "cell_type": "code",
   "execution_count": 5,
   "id": "bfb46fb4",
   "metadata": {},
   "outputs": [
    {
     "name": "stdout",
     "output_type": "stream",
     "text": [
      "3\n"
     ]
    }
   ],
   "source": [
    "df.shape\n",
    "total=1\n",
    "print(len(df.columns)-1)"
   ]
  },
  {
   "cell_type": "code",
   "execution_count": 6,
   "id": "60ea677f",
   "metadata": {},
   "outputs": [
    {
     "name": "stdout",
     "output_type": "stream",
     "text": [
      "[0, 2, 4, 6, 9]\n",
      "5\n",
      "5\n"
     ]
    }
   ],
   "source": [
    "rows=[]\n",
    "for row in range(0,df.shape[0]):\n",
    "    if(df.at[row,'Stolen?']=='Yes'):\n",
    "        rows.append(row)\n",
    "print(rows)\n",
    "count_stolen = len(rows)\n",
    "count_nstolen = df.shape[0]-count_stolen\n",
    "print(count_stolen)\n",
    "print(count_nstolen)"
   ]
  },
  {
   "cell_type": "code",
   "execution_count": 7,
   "id": "f8f07946",
   "metadata": {},
   "outputs": [
    {
     "name": "stdout",
     "output_type": "stream",
     "text": [
      "3\n",
      "1\n",
      "2\n"
     ]
    }
   ],
   "source": [
    "count_in_col=0\n",
    "count_in_typ=0\n",
    "count_in_ori=0\n",
    "for col in (['Color','Type','Origin']):\n",
    "    for pos in range(0,df.shape[0]):\n",
    "        if(df.at[pos,'Stolen?']=='Yes' and df.at[pos,col]==COLOR):\n",
    "            count_in_col+=1\n",
    "        if(df.at[pos,'Stolen?']=='Yes' and df.at[pos,col]==TYPE):\n",
    "            count_in_typ+=1\n",
    "        if(df.at[pos,'Stolen?']=='Yes' and df.at[pos,col]==ORIGIN):\n",
    "            count_in_ori+=1\n",
    "print(count_in_col)\n",
    "print(count_in_typ)\n",
    "print(count_in_ori)"
   ]
  },
  {
   "cell_type": "code",
   "execution_count": 8,
   "id": "4e49d1dc",
   "metadata": {},
   "outputs": [
    {
     "name": "stdout",
     "output_type": "stream",
     "text": [
      "2\n",
      "3\n",
      "3\n"
     ]
    }
   ],
   "source": [
    "count_in_ncol=0\n",
    "count_in_ntyp=0\n",
    "count_in_nori=0\n",
    "for col in (['Color','Type','Origin']):\n",
    "    for pos in range(0,df.shape[0]):\n",
    "        if(df.at[pos,'Stolen?']=='No' and df.at[pos,col]==COLOR):\n",
    "            count_in_ncol+=1\n",
    "        if(df.at[pos,'Stolen?']=='No' and df.at[pos,col]==TYPE):\n",
    "            count_in_ntyp+=1\n",
    "        if(df.at[pos,'Stolen?']=='No' and df.at[pos,col]==ORIGIN):\n",
    "            count_in_nori+=1\n",
    "print(count_in_ncol)\n",
    "print(count_in_ntyp)\n",
    "print(count_in_nori)"
   ]
  },
  {
   "cell_type": "code",
   "execution_count": 9,
   "id": "8bfbe414",
   "metadata": {},
   "outputs": [],
   "source": [
    "def stol(stolen,COLS,TYPS,ORIGS):\n",
    "    count1=0\n",
    "    count2=0\n",
    "    count3=0\n",
    "    for col in (['Color','Type','Origin']):\n",
    "        for pos in range(0,df.shape[0]):\n",
    "            if(df.at[pos,'Stolen?']==stolen and df.at[pos,col]==COLS):\n",
    "                count1+=1\n",
    "            if(df.at[pos,'Stolen?']==stolen and df.at[pos,col]==TYPS):\n",
    "                count2+=1\n",
    "            if(df.at[pos,'Stolen?']==stolen and df.at[pos,col]==ORIGS):\n",
    "                count3+=1\n",
    "    return count1,count2,count3"
   ]
  },
  {
   "cell_type": "code",
   "execution_count": 10,
   "id": "a865cdee",
   "metadata": {},
   "outputs": [],
   "source": [
    "count_in_col,count_in_typ,count_in_ori = stol('Yes',COLOR,TYPE,ORIGIN)"
   ]
  },
  {
   "cell_type": "code",
   "execution_count": 12,
   "id": "bc318544",
   "metadata": {
    "scrolled": true
   },
   "outputs": [
    {
     "name": "stdout",
     "output_type": "stream",
     "text": [
      "0.024\n"
     ]
    }
   ],
   "source": [
    "ans1 = (count_in_col/count_stolen)*(count_in_typ/count_stolen)*(count_in_ori/count_stolen)*(count_stolen/df.shape[0])\n",
    "print(ans1)"
   ]
  },
  {
   "cell_type": "code",
   "execution_count": 13,
   "id": "2cd7ccaf",
   "metadata": {},
   "outputs": [],
   "source": [
    "count_in_ncol,count_in_ntyp,count_in_nori = stol('No',COLOR,TYPE,ORIGIN)"
   ]
  },
  {
   "cell_type": "code",
   "execution_count": 14,
   "id": "0d7b450d",
   "metadata": {},
   "outputs": [
    {
     "name": "stdout",
     "output_type": "stream",
     "text": [
      "0.072\n"
     ]
    }
   ],
   "source": [
    "ans2 = (count_in_ncol/count_nstolen)*(count_in_ntyp/count_nstolen)*(count_in_nori/count_nstolen)*(count_nstolen/df.shape[0])\n",
    "print(ans2)"
   ]
  },
  {
   "cell_type": "code",
   "execution_count": 15,
   "id": "813115a3",
   "metadata": {},
   "outputs": [
    {
     "name": "stdout",
     "output_type": "stream",
     "text": [
      "The combination of:\n",
      "color: Red \n",
      "type: SUV \n",
      "Origin: Domestic \n",
      "Not likely to be stolen\n"
     ]
    }
   ],
   "source": [
    "if(ans1>ans2):\n",
    "    print('The combination of:\\ncolor:',COLOR,'\\ntype:',TYPE,'\\nOrigin:',ORIGIN,'\\nIs likely to be stolen')\n",
    "else:\n",
    "    print('The combination of:\\ncolor:',COLOR,'\\ntype:',TYPE,'\\nOrigin:',ORIGIN,'\\nNot likely to be stolen')"
   ]
  },
  {
   "cell_type": "markdown",
   "id": "1fa77748",
   "metadata": {},
   "source": [
    "Car stolen or not stolen predicition using the Naïve Bayes Algorithm\n",
    "It's called the Naïve Bayes Algortithm because I made the assumption that the X columns are independent. "
   ]
  }
 ],
 "metadata": {
  "kernelspec": {
   "display_name": "Python 3 (ipykernel)",
   "language": "python",
   "name": "python3"
  },
  "language_info": {
   "codemirror_mode": {
    "name": "ipython",
    "version": 3
   },
   "file_extension": ".py",
   "mimetype": "text/x-python",
   "name": "python",
   "nbconvert_exporter": "python",
   "pygments_lexer": "ipython3",
   "version": "3.8.2"
  }
 },
 "nbformat": 4,
 "nbformat_minor": 5
}
