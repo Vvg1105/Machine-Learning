{
 "cells": [
  {
   "cell_type": "code",
   "execution_count": 1,
   "id": "ad5949a9",
   "metadata": {},
   "outputs": [],
   "source": [
    "import pandas as pd"
   ]
  },
  {
   "cell_type": "code",
   "execution_count": 2,
   "id": "2cf9883e",
   "metadata": {},
   "outputs": [],
   "source": [
    "df = pd.read_excel (r'/Users/vanshgadhia/Desktop/Machine Learning/Exercise 1.xlsx')"
   ]
  },
  {
   "cell_type": "code",
   "execution_count": 3,
   "id": "6285cb44",
   "metadata": {},
   "outputs": [
    {
     "data": {
      "text/html": [
       "<div>\n",
       "<style scoped>\n",
       "    .dataframe tbody tr th:only-of-type {\n",
       "        vertical-align: middle;\n",
       "    }\n",
       "\n",
       "    .dataframe tbody tr th {\n",
       "        vertical-align: top;\n",
       "    }\n",
       "\n",
       "    .dataframe thead th {\n",
       "        text-align: right;\n",
       "    }\n",
       "</style>\n",
       "<table border=\"1\" class=\"dataframe\">\n",
       "  <thead>\n",
       "    <tr style=\"text-align: right;\">\n",
       "      <th></th>\n",
       "      <th>X</th>\n",
       "      <th>Y</th>\n",
       "    </tr>\n",
       "  </thead>\n",
       "  <tbody>\n",
       "    <tr>\n",
       "      <th>0</th>\n",
       "      <td>2</td>\n",
       "      <td>1</td>\n",
       "    </tr>\n",
       "    <tr>\n",
       "      <th>1</th>\n",
       "      <td>3</td>\n",
       "      <td>2</td>\n",
       "    </tr>\n",
       "    <tr>\n",
       "      <th>2</th>\n",
       "      <td>1</td>\n",
       "      <td>2</td>\n",
       "    </tr>\n",
       "    <tr>\n",
       "      <th>3</th>\n",
       "      <td>1</td>\n",
       "      <td>1</td>\n",
       "    </tr>\n",
       "    <tr>\n",
       "      <th>4</th>\n",
       "      <td>0</td>\n",
       "      <td>1</td>\n",
       "    </tr>\n",
       "    <tr>\n",
       "      <th>5</th>\n",
       "      <td>5</td>\n",
       "      <td>3</td>\n",
       "    </tr>\n",
       "    <tr>\n",
       "      <th>6</th>\n",
       "      <td>4</td>\n",
       "      <td>3</td>\n",
       "    </tr>\n",
       "    <tr>\n",
       "      <th>7</th>\n",
       "      <td>6</td>\n",
       "      <td>7</td>\n",
       "    </tr>\n",
       "    <tr>\n",
       "      <th>8</th>\n",
       "      <td>5</td>\n",
       "      <td>6</td>\n",
       "    </tr>\n",
       "    <tr>\n",
       "      <th>9</th>\n",
       "      <td>3</td>\n",
       "      <td>5</td>\n",
       "    </tr>\n",
       "  </tbody>\n",
       "</table>\n",
       "</div>"
      ],
      "text/plain": [
       "   X  Y\n",
       "0  2  1\n",
       "1  3  2\n",
       "2  1  2\n",
       "3  1  1\n",
       "4  0  1\n",
       "5  5  3\n",
       "6  4  3\n",
       "7  6  7\n",
       "8  5  6\n",
       "9  3  5"
      ]
     },
     "execution_count": 3,
     "metadata": {},
     "output_type": "execute_result"
    }
   ],
   "source": [
    "df"
   ]
  },
  {
   "cell_type": "code",
   "execution_count": 4,
   "id": "8fcf2d3c",
   "metadata": {},
   "outputs": [],
   "source": [
    "arr_vals =[]"
   ]
  },
  {
   "cell_type": "markdown",
   "id": "2cebb286",
   "metadata": {},
   "source": [
    "# Exercise 2"
   ]
  },
  {
   "cell_type": "code",
   "execution_count": 5,
   "id": "a11fbbfb",
   "metadata": {},
   "outputs": [],
   "source": [
    "arr_vals.append([1/5,0])\n",
    "arr_vals.append([1/4,0])\n",
    "arr_vals.append([1/3,0])\n",
    "arr_vals.append([1/2,0])\n",
    "arr_vals.append([1,0])\n",
    "arr_vals.append([2,0])\n",
    "arr_vals.append([3,0])\n",
    "arr_vals.append([4,0])\n",
    "arr_vals.append([5,0])"
   ]
  },
  {
   "cell_type": "code",
   "execution_count": 6,
   "id": "91b2d52f",
   "metadata": {},
   "outputs": [
    {
     "data": {
      "text/plain": [
       "[[0.2, 0],\n",
       " [0.25, 0],\n",
       " [0.3333333333333333, 0],\n",
       " [0.5, 0],\n",
       " [1, 0],\n",
       " [2, 0],\n",
       " [3, 0],\n",
       " [4, 0],\n",
       " [5, 0]]"
      ]
     },
     "execution_count": 6,
     "metadata": {},
     "output_type": "execute_result"
    }
   ],
   "source": [
    "arr_vals"
   ]
  },
  {
   "cell_type": "code",
   "execution_count": 7,
   "id": "e5a028b8",
   "metadata": {},
   "outputs": [],
   "source": [
    "MSE_values = []"
   ]
  },
  {
   "cell_type": "code",
   "execution_count": 8,
   "id": "434274da",
   "metadata": {},
   "outputs": [],
   "source": [
    "m_vals=[]"
   ]
  },
  {
   "cell_type": "code",
   "execution_count": 9,
   "id": "74509ead",
   "metadata": {},
   "outputs": [],
   "source": [
    "MSE = 0"
   ]
  },
  {
   "cell_type": "code",
   "execution_count": 10,
   "id": "54ef8875",
   "metadata": {},
   "outputs": [],
   "source": [
    "for pos in range(0,len(arr_vals)):\n",
    "    MSE=0\n",
    "    m = arr_vals[pos][0]\n",
    "    m_vals.append(m)\n",
    "    c = arr_vals[pos][1]\n",
    "    for row in range(0,len(df['Y'])):\n",
    "        val = (m*df['X'][row])+c\n",
    "        value = df['Y'][row] - val\n",
    "        MSE += value*value\n",
    "    MSE_values.append(MSE)"
   ]
  },
  {
   "cell_type": "code",
   "execution_count": 11,
   "id": "edec2ff8",
   "metadata": {},
   "outputs": [
    {
     "data": {
      "text/plain": [
       "[94.04, 84.375, 69.66666666666667, 45.5, 15, 143, 523, 1155, 2039]"
      ]
     },
     "execution_count": 11,
     "metadata": {},
     "output_type": "execute_result"
    }
   ],
   "source": [
    "MSE_values"
   ]
  },
  {
   "cell_type": "code",
   "execution_count": 12,
   "id": "0b28a61a",
   "metadata": {},
   "outputs": [],
   "source": [
    "smallest = MSE_values[0]"
   ]
  },
  {
   "cell_type": "code",
   "execution_count": 13,
   "id": "37be818f",
   "metadata": {},
   "outputs": [],
   "source": [
    "eqpos = 0"
   ]
  },
  {
   "cell_type": "code",
   "execution_count": 14,
   "id": "c9b2dafa",
   "metadata": {},
   "outputs": [],
   "source": [
    "for pos in range(0,len(MSE_values)):\n",
    "    if(MSE_values[pos]<smallest):\n",
    "        smallest=MSE_values[pos]\n",
    "        eqpos=pos"
   ]
  },
  {
   "cell_type": "code",
   "execution_count": 15,
   "id": "6d95f1ac",
   "metadata": {},
   "outputs": [
    {
     "data": {
      "text/plain": [
       "4"
      ]
     },
     "execution_count": 15,
     "metadata": {},
     "output_type": "execute_result"
    }
   ],
   "source": [
    "eqpos"
   ]
  },
  {
   "cell_type": "code",
   "execution_count": 16,
   "id": "aca5ea3d",
   "metadata": {},
   "outputs": [
    {
     "data": {
      "text/plain": [
       "[1, 0]"
      ]
     },
     "execution_count": 16,
     "metadata": {},
     "output_type": "execute_result"
    }
   ],
   "source": [
    "arr_vals[eqpos]"
   ]
  },
  {
   "cell_type": "code",
   "execution_count": 17,
   "id": "0f69ef05",
   "metadata": {},
   "outputs": [],
   "source": [
    "m=arr_vals[eqpos][0]"
   ]
  },
  {
   "cell_type": "code",
   "execution_count": 18,
   "id": "12192867",
   "metadata": {},
   "outputs": [],
   "source": [
    "c=arr_vals[eqpos][1]"
   ]
  },
  {
   "cell_type": "code",
   "execution_count": 19,
   "id": "d60131a7",
   "metadata": {},
   "outputs": [
    {
     "name": "stdout",
     "output_type": "stream",
     "text": [
      "y =  1 x + 0\n"
     ]
    }
   ],
   "source": [
    "print(\"y = \",m,\"x +\",c)"
   ]
  },
  {
   "cell_type": "code",
   "execution_count": 20,
   "id": "8652d3a8",
   "metadata": {},
   "outputs": [],
   "source": [
    "import matplotlib.pyplot as plt"
   ]
  },
  {
   "cell_type": "code",
   "execution_count": 21,
   "id": "daf2f661",
   "metadata": {},
   "outputs": [
    {
     "data": {
      "text/plain": [
       "[0.2, 0.25, 0.3333333333333333, 0.5, 1, 2, 3, 4, 5]"
      ]
     },
     "execution_count": 21,
     "metadata": {},
     "output_type": "execute_result"
    }
   ],
   "source": [
    "m_vals"
   ]
  },
  {
   "cell_type": "code",
   "execution_count": 22,
   "id": "f755adc6",
   "metadata": {},
   "outputs": [
    {
     "data": {
      "text/plain": [
       "[<matplotlib.lines.Line2D at 0x7fea81e2edc0>]"
      ]
     },
     "execution_count": 22,
     "metadata": {},
     "output_type": "execute_result"
    },
    {
     "data": {
      "image/png": "[encoded data removed]",
      "text/plain": [
       "<Figure size 432x288 with 1 Axes>"
      ]
     },
     "metadata": {
      "needs_background": "light"
     },
     "output_type": "display_data"
    }
   ],
   "source": [
    "plt.plot(m_vals, MSE_values)"
   ]
  },
  {
   "cell_type": "code",
   "execution_count": 23,
   "id": "e1108dde",
   "metadata": {},
   "outputs": [],
   "source": [
    "m=1"
   ]
  },
  {
   "cell_type": "code",
   "execution_count": 24,
   "id": "90df63b1",
   "metadata": {},
   "outputs": [],
   "source": [
    "arr_c=[-4,-3,-2,-1,0,1,2,3]"
   ]
  },
  {
   "cell_type": "code",
   "execution_count": 25,
   "id": "987714a5",
   "metadata": {},
   "outputs": [],
   "source": [
    "MSE_values = []"
   ]
  },
  {
   "cell_type": "code",
   "execution_count": 26,
   "id": "e5422f00",
   "metadata": {},
   "outputs": [],
   "source": [
    "for pos in range(0,len(arr_c)):\n",
    "    MSE=0\n",
    "    c = arr_c[pos]\n",
    "    for row in range(0,len(df['Y'])):\n",
    "        val = (m*df['X'][row])+c\n",
    "        value = df['Y'][row] - val\n",
    "        MSE += value*value\n",
    "    MSE_values.append(MSE)"
   ]
  },
  {
   "cell_type": "code",
   "execution_count": 27,
   "id": "2c9c682c",
   "metadata": {},
   "outputs": [
    {
     "data": {
      "text/plain": [
       "[183, 111, 59, 27, 15, 23, 51, 99]"
      ]
     },
     "execution_count": 27,
     "metadata": {},
     "output_type": "execute_result"
    }
   ],
   "source": [
    "MSE_values"
   ]
  },
  {
   "cell_type": "code",
   "execution_count": 28,
   "id": "70465a4c",
   "metadata": {},
   "outputs": [
    {
     "data": {
      "text/plain": [
       "[<matplotlib.lines.Line2D at 0x7fea702649a0>]"
      ]
     },
     "execution_count": 28,
     "metadata": {},
     "output_type": "execute_result"
    },
    {
     "data": {
      "image/png": "[encoded data removed]",
      "text/plain": [
       "<Figure size 432x288 with 1 Axes>"
      ]
     },
     "metadata": {
      "needs_background": "light"
     },
     "output_type": "display_data"
    }
   ],
   "source": [
    "plt.plot(arr_c, MSE_values)"
   ]
  },
  {
   "cell_type": "code",
   "execution_count": 29,
   "id": "aec4b9cc",
   "metadata": {},
   "outputs": [],
   "source": [
    "arr_m = []"
   ]
  },
  {
   "cell_type": "code",
   "execution_count": 30,
   "id": "1e1dba2c",
   "metadata": {},
   "outputs": [],
   "source": [
    "import numpy as np"
   ]
  },
  {
   "cell_type": "code",
   "execution_count": 31,
   "id": "c2afa468",
   "metadata": {},
   "outputs": [],
   "source": [
    "for pos in range(0,10):\n",
    "    arr_m.append(np.round(pos*0.20,2))"
   ]
  },
  {
   "cell_type": "code",
   "execution_count": 32,
   "id": "f53ab274",
   "metadata": {},
   "outputs": [
    {
     "data": {
      "text/plain": [
       "[0.0, 0.2, 0.4, 0.6, 0.8, 1.0, 1.2, 1.4, 1.6, 1.8]"
      ]
     },
     "execution_count": 32,
     "metadata": {},
     "output_type": "execute_result"
    }
   ],
   "source": [
    "arr_m"
   ]
  },
  {
   "cell_type": "code",
   "execution_count": 33,
   "id": "00ec71be",
   "metadata": {},
   "outputs": [],
   "source": [
    "arr_c = []"
   ]
  },
  {
   "cell_type": "code",
   "execution_count": 34,
   "id": "f87caad9",
   "metadata": {},
   "outputs": [],
   "source": [
    "for pos in range (-5,5):\n",
    "    arr_c.append(np.round(pos*0.20,2))"
   ]
  },
  {
   "cell_type": "code",
   "execution_count": 35,
   "id": "c7a8e9fb",
   "metadata": {},
   "outputs": [
    {
     "data": {
      "text/plain": [
       "[-1.0, -0.8, -0.6, -0.4, -0.2, 0.0, 0.2, 0.4, 0.6, 0.8]"
      ]
     },
     "execution_count": 35,
     "metadata": {},
     "output_type": "execute_result"
    }
   ],
   "source": [
    "arr_c"
   ]
  },
  {
   "cell_type": "code",
   "execution_count": 36,
   "id": "f9641788",
   "metadata": {},
   "outputs": [],
   "source": [
    "mseval = 0"
   ]
  },
  {
   "cell_type": "code",
   "execution_count": 37,
   "id": "bc664dec",
   "metadata": {},
   "outputs": [],
   "source": [
    "MSE_values= []"
   ]
  },
  {
   "cell_type": "code",
   "execution_count": 38,
   "id": "efb7bc2a",
   "metadata": {},
   "outputs": [],
   "source": [
    "for pos in range(0,len(arr_c)):\n",
    "    arr_c_val = []\n",
    "    mseval = 0\n",
    "    c = arr_c[pos]\n",
    "    for row in range(0,len(df['Y'])):\n",
    "        val = (arr_m[pos]*df['X'][row])+c\n",
    "        value = df['Y'][row] - val\n",
    "        mseval += value*value\n",
    "        arr_c_val.append(mseval)\n",
    "    MSE_values.append(arr_c_val)"
   ]
  },
  {
   "cell_type": "code",
   "execution_count": 39,
   "id": "2b201e21",
   "metadata": {},
   "outputs": [
    {
     "data": {
      "text/plain": [
       "[[4.0, 13.0, 22.0, 26.0, 30.0, 46.0, 62.0, 126.0, 175.0, 211.0],\n",
       " [1.9599999999999997,\n",
       "  6.800000000000001,\n",
       "  13.560000000000002,\n",
       "  16.120000000000005,\n",
       "  19.360000000000007,\n",
       "  27.200000000000006,\n",
       "  36.2,\n",
       "  79.75999999999999,\n",
       "  113.39999999999999,\n",
       "  140.44],\n",
       " [0.6399999999999999,\n",
       "  2.5999999999999996,\n",
       "  7.44,\n",
       "  8.88,\n",
       "  11.440000000000001,\n",
       "  14.000000000000002,\n",
       "  18.0,\n",
       "  45.03999999999999,\n",
       "  66.19999999999999,\n",
       "  85.55999999999999],\n",
       " [0.04000000000000003,\n",
       "  0.40000000000000013,\n",
       "  3.6400000000000006,\n",
       "  4.280000000000001,\n",
       "  6.240000000000001,\n",
       "  6.400000000000001,\n",
       "  7.400000000000001,\n",
       "  21.840000000000003,\n",
       "  33.400000000000006,\n",
       "  46.36000000000001],\n",
       " [0.16000000000000011,\n",
       "  0.20000000000000018,\n",
       "  2.16,\n",
       "  2.3200000000000003,\n",
       "  3.7600000000000002,\n",
       "  4.4,\n",
       "  4.4,\n",
       "  10.159999999999997,\n",
       "  14.999999999999996,\n",
       "  22.839999999999996],\n",
       " [1.0, 2.0, 3.0, 3.0, 4.0, 8.0, 9.0, 10.0, 11.0, 15.0],\n",
       " [2.5600000000000005,\n",
       "  5.8,\n",
       "  6.16,\n",
       "  6.32,\n",
       "  6.960000000000001,\n",
       "  17.200000000000003,\n",
       "  21.200000000000003,\n",
       "  21.360000000000003,\n",
       "  21.400000000000002,\n",
       "  22.840000000000003],\n",
       " [4.839999999999999,\n",
       "  11.599999999999998,\n",
       "  11.639999999999999,\n",
       "  12.279999999999998,\n",
       "  12.639999999999997,\n",
       "  32.0,\n",
       "  41.0,\n",
       "  44.239999999999995,\n",
       "  46.199999999999996,\n",
       "  46.36],\n",
       " [7.840000000000002,\n",
       "  19.400000000000006,\n",
       "  19.440000000000005,\n",
       "  20.880000000000006,\n",
       "  21.040000000000006,\n",
       "  52.400000000000006,\n",
       "  68.4,\n",
       "  78.64000000000001,\n",
       "  85.4,\n",
       "  85.56],\n",
       " [11.560000000000002,\n",
       "  29.200000000000003,\n",
       "  29.560000000000002,\n",
       "  32.120000000000005,\n",
       "  32.160000000000004,\n",
       "  78.4,\n",
       "  103.4,\n",
       "  124.56000000000002,\n",
       "  139.00000000000003,\n",
       "  140.44000000000003]]"
      ]
     },
     "execution_count": 39,
     "metadata": {},
     "output_type": "execute_result"
    }
   ],
   "source": [
    "MSE_values"
   ]
  },
  {
   "cell_type": "code",
   "execution_count": 40,
   "id": "f5e00da2",
   "metadata": {},
   "outputs": [],
   "source": [
    "df_grid = pd.DataFrame(data=MSE_values)"
   ]
  },
  {
   "cell_type": "code",
   "execution_count": 41,
   "id": "911da014",
   "metadata": {},
   "outputs": [
    {
     "data": {
      "text/html": [
       "<div>\n",
       "<style scoped>\n",
       "    .dataframe tbody tr th:only-of-type {\n",
       "        vertical-align: middle;\n",
       "    }\n",
       "\n",
       "    .dataframe tbody tr th {\n",
       "        vertical-align: top;\n",
       "    }\n",
       "\n",
       "    .dataframe thead th {\n",
       "        text-align: right;\n",
       "    }\n",
       "</style>\n",
       "<table border=\"1\" class=\"dataframe\">\n",
       "  <thead>\n",
       "    <tr style=\"text-align: right;\">\n",
       "      <th></th>\n",
       "      <th>0</th>\n",
       "      <th>1</th>\n",
       "      <th>2</th>\n",
       "      <th>3</th>\n",
       "      <th>4</th>\n",
       "      <th>5</th>\n",
       "      <th>6</th>\n",
       "      <th>7</th>\n",
       "      <th>8</th>\n",
       "      <th>9</th>\n",
       "    </tr>\n",
       "  </thead>\n",
       "  <tbody>\n",
       "    <tr>\n",
       "      <th>0</th>\n",
       "      <td>4.00</td>\n",
       "      <td>13.0</td>\n",
       "      <td>22.00</td>\n",
       "      <td>26.00</td>\n",
       "      <td>30.00</td>\n",
       "      <td>46.0</td>\n",
       "      <td>62.0</td>\n",
       "      <td>126.00</td>\n",
       "      <td>175.0</td>\n",
       "      <td>211.00</td>\n",
       "    </tr>\n",
       "    <tr>\n",
       "      <th>1</th>\n",
       "      <td>1.96</td>\n",
       "      <td>6.8</td>\n",
       "      <td>13.56</td>\n",
       "      <td>16.12</td>\n",
       "      <td>19.36</td>\n",
       "      <td>27.2</td>\n",
       "      <td>36.2</td>\n",
       "      <td>79.76</td>\n",
       "      <td>113.4</td>\n",
       "      <td>140.44</td>\n",
       "    </tr>\n",
       "    <tr>\n",
       "      <th>2</th>\n",
       "      <td>0.64</td>\n",
       "      <td>2.6</td>\n",
       "      <td>7.44</td>\n",
       "      <td>8.88</td>\n",
       "      <td>11.44</td>\n",
       "      <td>14.0</td>\n",
       "      <td>18.0</td>\n",
       "      <td>45.04</td>\n",
       "      <td>66.2</td>\n",
       "      <td>85.56</td>\n",
       "    </tr>\n",
       "    <tr>\n",
       "      <th>3</th>\n",
       "      <td>0.04</td>\n",
       "      <td>0.4</td>\n",
       "      <td>3.64</td>\n",
       "      <td>4.28</td>\n",
       "      <td>6.24</td>\n",
       "      <td>6.4</td>\n",
       "      <td>7.4</td>\n",
       "      <td>21.84</td>\n",
       "      <td>33.4</td>\n",
       "      <td>46.36</td>\n",
       "    </tr>\n",
       "    <tr>\n",
       "      <th>4</th>\n",
       "      <td>0.16</td>\n",
       "      <td>0.2</td>\n",
       "      <td>2.16</td>\n",
       "      <td>2.32</td>\n",
       "      <td>3.76</td>\n",
       "      <td>4.4</td>\n",
       "      <td>4.4</td>\n",
       "      <td>10.16</td>\n",
       "      <td>15.0</td>\n",
       "      <td>22.84</td>\n",
       "    </tr>\n",
       "    <tr>\n",
       "      <th>5</th>\n",
       "      <td>1.00</td>\n",
       "      <td>2.0</td>\n",
       "      <td>3.00</td>\n",
       "      <td>3.00</td>\n",
       "      <td>4.00</td>\n",
       "      <td>8.0</td>\n",
       "      <td>9.0</td>\n",
       "      <td>10.00</td>\n",
       "      <td>11.0</td>\n",
       "      <td>15.00</td>\n",
       "    </tr>\n",
       "    <tr>\n",
       "      <th>6</th>\n",
       "      <td>2.56</td>\n",
       "      <td>5.8</td>\n",
       "      <td>6.16</td>\n",
       "      <td>6.32</td>\n",
       "      <td>6.96</td>\n",
       "      <td>17.2</td>\n",
       "      <td>21.2</td>\n",
       "      <td>21.36</td>\n",
       "      <td>21.4</td>\n",
       "      <td>22.84</td>\n",
       "    </tr>\n",
       "    <tr>\n",
       "      <th>7</th>\n",
       "      <td>4.84</td>\n",
       "      <td>11.6</td>\n",
       "      <td>11.64</td>\n",
       "      <td>12.28</td>\n",
       "      <td>12.64</td>\n",
       "      <td>32.0</td>\n",
       "      <td>41.0</td>\n",
       "      <td>44.24</td>\n",
       "      <td>46.2</td>\n",
       "      <td>46.36</td>\n",
       "    </tr>\n",
       "    <tr>\n",
       "      <th>8</th>\n",
       "      <td>7.84</td>\n",
       "      <td>19.4</td>\n",
       "      <td>19.44</td>\n",
       "      <td>20.88</td>\n",
       "      <td>21.04</td>\n",
       "      <td>52.4</td>\n",
       "      <td>68.4</td>\n",
       "      <td>78.64</td>\n",
       "      <td>85.4</td>\n",
       "      <td>85.56</td>\n",
       "    </tr>\n",
       "    <tr>\n",
       "      <th>9</th>\n",
       "      <td>11.56</td>\n",
       "      <td>29.2</td>\n",
       "      <td>29.56</td>\n",
       "      <td>32.12</td>\n",
       "      <td>32.16</td>\n",
       "      <td>78.4</td>\n",
       "      <td>103.4</td>\n",
       "      <td>124.56</td>\n",
       "      <td>139.0</td>\n",
       "      <td>140.44</td>\n",
       "    </tr>\n",
       "  </tbody>\n",
       "</table>\n",
       "</div>"
      ],
      "text/plain": [
       "       0     1      2      3      4     5      6       7      8       9\n",
       "0   4.00  13.0  22.00  26.00  30.00  46.0   62.0  126.00  175.0  211.00\n",
       "1   1.96   6.8  13.56  16.12  19.36  27.2   36.2   79.76  113.4  140.44\n",
       "2   0.64   2.6   7.44   8.88  11.44  14.0   18.0   45.04   66.2   85.56\n",
       "3   0.04   0.4   3.64   4.28   6.24   6.4    7.4   21.84   33.4   46.36\n",
       "4   0.16   0.2   2.16   2.32   3.76   4.4    4.4   10.16   15.0   22.84\n",
       "5   1.00   2.0   3.00   3.00   4.00   8.0    9.0   10.00   11.0   15.00\n",
       "6   2.56   5.8   6.16   6.32   6.96  17.2   21.2   21.36   21.4   22.84\n",
       "7   4.84  11.6  11.64  12.28  12.64  32.0   41.0   44.24   46.2   46.36\n",
       "8   7.84  19.4  19.44  20.88  21.04  52.4   68.4   78.64   85.4   85.56\n",
       "9  11.56  29.2  29.56  32.12  32.16  78.4  103.4  124.56  139.0  140.44"
      ]
     },
     "execution_count": 41,
     "metadata": {},
     "output_type": "execute_result"
    }
   ],
   "source": [
    "df_grid"
   ]
  },
  {
   "cell_type": "code",
   "execution_count": 42,
   "id": "2a2b1c72",
   "metadata": {},
   "outputs": [
    {
     "data": {
      "text/plain": [
       "0     0.04\n",
       "1     0.20\n",
       "2     2.16\n",
       "3     2.32\n",
       "4     3.76\n",
       "5     4.40\n",
       "6     4.40\n",
       "7    10.00\n",
       "8    11.00\n",
       "9    15.00\n",
       "dtype: float64"
      ]
     },
     "execution_count": 42,
     "metadata": {},
     "output_type": "execute_result"
    }
   ],
   "source": [
    "df_grid.min()"
   ]
  },
  {
   "cell_type": "code",
   "execution_count": 43,
   "id": "6841a364",
   "metadata": {},
   "outputs": [],
   "source": [
    "minvalueIndexLabel = df_grid.idxmin()"
   ]
  },
  {
   "cell_type": "code",
   "execution_count": 44,
   "id": "e0a193e0",
   "metadata": {},
   "outputs": [
    {
     "data": {
      "text/plain": [
       "0    3\n",
       "1    4\n",
       "2    4\n",
       "3    4\n",
       "4    4\n",
       "5    4\n",
       "6    4\n",
       "7    5\n",
       "8    5\n",
       "9    5\n",
       "dtype: int64"
      ]
     },
     "execution_count": 44,
     "metadata": {},
     "output_type": "execute_result"
    }
   ],
   "source": [
    "minvalueIndexLabel"
   ]
  },
  {
   "cell_type": "code",
   "execution_count": 45,
   "id": "62665612",
   "metadata": {},
   "outputs": [
    {
     "data": {
      "text/plain": [
       "0.0"
      ]
     },
     "execution_count": 45,
     "metadata": {},
     "output_type": "execute_result"
    }
   ],
   "source": [
    "arr_m[0]"
   ]
  },
  {
   "cell_type": "code",
   "execution_count": 46,
   "id": "3ddf53f0",
   "metadata": {},
   "outputs": [
    {
     "data": {
      "text/plain": [
       "0.4"
      ]
     },
     "execution_count": 46,
     "metadata": {},
     "output_type": "execute_result"
    }
   ],
   "source": [
    "arr_c[7]"
   ]
  },
  {
   "cell_type": "code",
   "execution_count": 47,
   "id": "a4d83a7c",
   "metadata": {},
   "outputs": [
    {
     "data": {
      "image/png": "[encoded data removed]",
      "text/plain": [
       "<Figure size 432x288 with 1 Axes>"
      ]
     },
     "metadata": {
      "needs_background": "light"
     },
     "output_type": "display_data"
    }
   ],
   "source": [
    "ax = plt.axes(projection=\"3d\")"
   ]
  },
  {
   "cell_type": "code",
   "execution_count": 48,
   "id": "36a7fe33",
   "metadata": {},
   "outputs": [],
   "source": [
    "MSE_vals = []"
   ]
  },
  {
   "cell_type": "code",
   "execution_count": 49,
   "id": "2d9f0208",
   "metadata": {},
   "outputs": [],
   "source": [
    "for pos in range(0,len(MSE_values)):\n",
    "    for pos1 in range(0,len(MSE_values[pos])):\n",
    "        MSE_vals.append(MSE_values[pos][pos1])"
   ]
  },
  {
   "cell_type": "code",
   "execution_count": 50,
   "id": "072e0f88",
   "metadata": {},
   "outputs": [],
   "source": [
    "X, Y = np.meshgrid(arr_m, arr_c)"
   ]
  },
  {
   "cell_type": "code",
   "execution_count": 51,
   "id": "36a08b60",
   "metadata": {},
   "outputs": [
    {
     "data": {
      "text/plain": [
       "array([[0. , 0.2, 0.4, 0.6, 0.8, 1. , 1.2, 1.4, 1.6, 1.8],\n",
       "       [0. , 0.2, 0.4, 0.6, 0.8, 1. , 1.2, 1.4, 1.6, 1.8],\n",
       "       [0. , 0.2, 0.4, 0.6, 0.8, 1. , 1.2, 1.4, 1.6, 1.8],\n",
       "       [0. , 0.2, 0.4, 0.6, 0.8, 1. , 1.2, 1.4, 1.6, 1.8],\n",
       "       [0. , 0.2, 0.4, 0.6, 0.8, 1. , 1.2, 1.4, 1.6, 1.8],\n",
       "       [0. , 0.2, 0.4, 0.6, 0.8, 1. , 1.2, 1.4, 1.6, 1.8],\n",
       "       [0. , 0.2, 0.4, 0.6, 0.8, 1. , 1.2, 1.4, 1.6, 1.8],\n",
       "       [0. , 0.2, 0.4, 0.6, 0.8, 1. , 1.2, 1.4, 1.6, 1.8],\n",
       "       [0. , 0.2, 0.4, 0.6, 0.8, 1. , 1.2, 1.4, 1.6, 1.8],\n",
       "       [0. , 0.2, 0.4, 0.6, 0.8, 1. , 1.2, 1.4, 1.6, 1.8]])"
      ]
     },
     "execution_count": 51,
     "metadata": {},
     "output_type": "execute_result"
    }
   ],
   "source": [
    "X"
   ]
  },
  {
   "cell_type": "code",
   "execution_count": 52,
   "id": "632de522",
   "metadata": {},
   "outputs": [
    {
     "data": {
      "text/plain": [
       "array([[-1. , -1. , -1. , -1. , -1. , -1. , -1. , -1. , -1. , -1. ],\n",
       "       [-0.8, -0.8, -0.8, -0.8, -0.8, -0.8, -0.8, -0.8, -0.8, -0.8],\n",
       "       [-0.6, -0.6, -0.6, -0.6, -0.6, -0.6, -0.6, -0.6, -0.6, -0.6],\n",
       "       [-0.4, -0.4, -0.4, -0.4, -0.4, -0.4, -0.4, -0.4, -0.4, -0.4],\n",
       "       [-0.2, -0.2, -0.2, -0.2, -0.2, -0.2, -0.2, -0.2, -0.2, -0.2],\n",
       "       [ 0. ,  0. ,  0. ,  0. ,  0. ,  0. ,  0. ,  0. ,  0. ,  0. ],\n",
       "       [ 0.2,  0.2,  0.2,  0.2,  0.2,  0.2,  0.2,  0.2,  0.2,  0.2],\n",
       "       [ 0.4,  0.4,  0.4,  0.4,  0.4,  0.4,  0.4,  0.4,  0.4,  0.4],\n",
       "       [ 0.6,  0.6,  0.6,  0.6,  0.6,  0.6,  0.6,  0.6,  0.6,  0.6],\n",
       "       [ 0.8,  0.8,  0.8,  0.8,  0.8,  0.8,  0.8,  0.8,  0.8,  0.8]])"
      ]
     },
     "execution_count": 52,
     "metadata": {},
     "output_type": "execute_result"
    }
   ],
   "source": [
    "Y"
   ]
  },
  {
   "cell_type": "code",
   "execution_count": 53,
   "id": "d8255473",
   "metadata": {},
   "outputs": [
    {
     "data": {
      "text/plain": [
       "[[4.0, 13.0, 22.0, 26.0, 30.0, 46.0, 62.0, 126.0, 175.0, 211.0],\n",
       " [1.9599999999999997,\n",
       "  6.800000000000001,\n",
       "  13.560000000000002,\n",
       "  16.120000000000005,\n",
       "  19.360000000000007,\n",
       "  27.200000000000006,\n",
       "  36.2,\n",
       "  79.75999999999999,\n",
       "  113.39999999999999,\n",
       "  140.44],\n",
       " [0.6399999999999999,\n",
       "  2.5999999999999996,\n",
       "  7.44,\n",
       "  8.88,\n",
       "  11.440000000000001,\n",
       "  14.000000000000002,\n",
       "  18.0,\n",
       "  45.03999999999999,\n",
       "  66.19999999999999,\n",
       "  85.55999999999999],\n",
       " [0.04000000000000003,\n",
       "  0.40000000000000013,\n",
       "  3.6400000000000006,\n",
       "  4.280000000000001,\n",
       "  6.240000000000001,\n",
       "  6.400000000000001,\n",
       "  7.400000000000001,\n",
       "  21.840000000000003,\n",
       "  33.400000000000006,\n",
       "  46.36000000000001],\n",
       " [0.16000000000000011,\n",
       "  0.20000000000000018,\n",
       "  2.16,\n",
       "  2.3200000000000003,\n",
       "  3.7600000000000002,\n",
       "  4.4,\n",
       "  4.4,\n",
       "  10.159999999999997,\n",
       "  14.999999999999996,\n",
       "  22.839999999999996],\n",
       " [1.0, 2.0, 3.0, 3.0, 4.0, 8.0, 9.0, 10.0, 11.0, 15.0],\n",
       " [2.5600000000000005,\n",
       "  5.8,\n",
       "  6.16,\n",
       "  6.32,\n",
       "  6.960000000000001,\n",
       "  17.200000000000003,\n",
       "  21.200000000000003,\n",
       "  21.360000000000003,\n",
       "  21.400000000000002,\n",
       "  22.840000000000003],\n",
       " [4.839999999999999,\n",
       "  11.599999999999998,\n",
       "  11.639999999999999,\n",
       "  12.279999999999998,\n",
       "  12.639999999999997,\n",
       "  32.0,\n",
       "  41.0,\n",
       "  44.239999999999995,\n",
       "  46.199999999999996,\n",
       "  46.36],\n",
       " [7.840000000000002,\n",
       "  19.400000000000006,\n",
       "  19.440000000000005,\n",
       "  20.880000000000006,\n",
       "  21.040000000000006,\n",
       "  52.400000000000006,\n",
       "  68.4,\n",
       "  78.64000000000001,\n",
       "  85.4,\n",
       "  85.56],\n",
       " [11.560000000000002,\n",
       "  29.200000000000003,\n",
       "  29.560000000000002,\n",
       "  32.120000000000005,\n",
       "  32.160000000000004,\n",
       "  78.4,\n",
       "  103.4,\n",
       "  124.56000000000002,\n",
       "  139.00000000000003,\n",
       "  140.44000000000003]]"
      ]
     },
     "execution_count": 53,
     "metadata": {},
     "output_type": "execute_result"
    }
   ],
   "source": [
    "MSE_values"
   ]
  },
  {
   "cell_type": "code",
   "execution_count": 54,
   "id": "b8506ac5",
   "metadata": {},
   "outputs": [],
   "source": [
    "MSE_values = np.array(MSE_values)"
   ]
  },
  {
   "cell_type": "code",
   "execution_count": 55,
   "id": "88055e55",
   "metadata": {},
   "outputs": [
    {
     "data": {
      "text/plain": [
       "array([[4.0000e+00, 1.3000e+01, 2.2000e+01, 2.6000e+01, 3.0000e+01,\n",
       "        4.6000e+01, 6.2000e+01, 1.2600e+02, 1.7500e+02, 2.1100e+02],\n",
       "       [1.9600e+00, 6.8000e+00, 1.3560e+01, 1.6120e+01, 1.9360e+01,\n",
       "        2.7200e+01, 3.6200e+01, 7.9760e+01, 1.1340e+02, 1.4044e+02],\n",
       "       [6.4000e-01, 2.6000e+00, 7.4400e+00, 8.8800e+00, 1.1440e+01,\n",
       "        1.4000e+01, 1.8000e+01, 4.5040e+01, 6.6200e+01, 8.5560e+01],\n",
       "       [4.0000e-02, 4.0000e-01, 3.6400e+00, 4.2800e+00, 6.2400e+00,\n",
       "        6.4000e+00, 7.4000e+00, 2.1840e+01, 3.3400e+01, 4.6360e+01],\n",
       "       [1.6000e-01, 2.0000e-01, 2.1600e+00, 2.3200e+00, 3.7600e+00,\n",
       "        4.4000e+00, 4.4000e+00, 1.0160e+01, 1.5000e+01, 2.2840e+01],\n",
       "       [1.0000e+00, 2.0000e+00, 3.0000e+00, 3.0000e+00, 4.0000e+00,\n",
       "        8.0000e+00, 9.0000e+00, 1.0000e+01, 1.1000e+01, 1.5000e+01],\n",
       "       [2.5600e+00, 5.8000e+00, 6.1600e+00, 6.3200e+00, 6.9600e+00,\n",
       "        1.7200e+01, 2.1200e+01, 2.1360e+01, 2.1400e+01, 2.2840e+01],\n",
       "       [4.8400e+00, 1.1600e+01, 1.1640e+01, 1.2280e+01, 1.2640e+01,\n",
       "        3.2000e+01, 4.1000e+01, 4.4240e+01, 4.6200e+01, 4.6360e+01],\n",
       "       [7.8400e+00, 1.9400e+01, 1.9440e+01, 2.0880e+01, 2.1040e+01,\n",
       "        5.2400e+01, 6.8400e+01, 7.8640e+01, 8.5400e+01, 8.5560e+01],\n",
       "       [1.1560e+01, 2.9200e+01, 2.9560e+01, 3.2120e+01, 3.2160e+01,\n",
       "        7.8400e+01, 1.0340e+02, 1.2456e+02, 1.3900e+02, 1.4044e+02]])"
      ]
     },
     "execution_count": 55,
     "metadata": {},
     "output_type": "execute_result"
    }
   ],
   "source": [
    "MSE_values"
   ]
  },
  {
   "cell_type": "code",
   "execution_count": 56,
   "id": "29885a21",
   "metadata": {},
   "outputs": [
    {
     "data": {
      "image/png": "[encoded data removed]",
      "text/plain": [
       "<Figure size 432x288 with 1 Axes>"
      ]
     },
     "metadata": {
      "needs_background": "light"
     },
     "output_type": "display_data"
    }
   ],
   "source": [
    "ax = plt.axes(projection='3d')\n",
    "ax.plot_surface(X, Y, MSE_values, rstride=1, cstride=1,\n",
    "                cmap='viridis', edgecolor='none')\n",
    "ax.set_title('surface');"
   ]
  },
  {
   "cell_type": "code",
   "execution_count": 57,
   "id": "e1798766",
   "metadata": {},
   "outputs": [
    {
     "data": {
      "image/png": "[encoded data removed]",
      "text/plain": [
       "<Figure size 432x288 with 1 Axes>"
      ]
     },
     "metadata": {
      "needs_background": "light"
     },
     "output_type": "display_data"
    }
   ],
   "source": [
    "fig = plt.figure()\n",
    "ax = plt.axes(projection='3d')\n",
    "ax.plot_wireframe(X, Y, MSE_values, color='black')\n",
    "ax.set_title('wireframe');"
   ]
  },
  {
   "cell_type": "code",
   "execution_count": 58,
   "id": "3d3634ba",
   "metadata": {},
   "outputs": [],
   "source": [
    "w0 = [-4, -3, -2, -1, 0, 1, 2, 3, 4, 5]"
   ]
  },
  {
   "cell_type": "code",
   "execution_count": 59,
   "id": "af0d983e",
   "metadata": {},
   "outputs": [],
   "source": [
    "w1 = [0, 1/5, 1/4, 1/3, 1/2, 1, 2, 3, 4, 5]"
   ]
  },
  {
   "cell_type": "code",
   "execution_count": 106,
   "id": "da21d61a",
   "metadata": {},
   "outputs": [],
   "source": [
    "arr_MSE_val=[]"
   ]
  },
  {
   "cell_type": "code",
   "execution_count": 107,
   "id": "10c46f64",
   "metadata": {},
   "outputs": [],
   "source": [
    "for pos in range(0,len(w0)):\n",
    "    c = w0[pos]\n",
    "    for m in w1:\n",
    "        mseval=0\n",
    "        arr_vals=[]\n",
    "        for row in range(0,len(df['X'])):\n",
    "            val = (m*df['X'][row])+c\n",
    "            value = df['Y'][row] - val\n",
    "            mseval += value*value\n",
    "        mseval = mseval/len(df['X'])\n",
    "        arr_MSE_val.append(mseval)"
   ]
  },
  {
   "cell_type": "code",
   "execution_count": 109,
   "id": "351a0ef7",
   "metadata": {},
   "outputs": [],
   "source": [
    "arr_vals = []"
   ]
  },
  {
   "cell_type": "code",
   "execution_count": 110,
   "id": "1620f625",
   "metadata": {},
   "outputs": [],
   "source": [
    "arr_MSE = []"
   ]
  },
  {
   "cell_type": "code",
   "execution_count": 111,
   "id": "cae7f2a5",
   "metadata": {},
   "outputs": [],
   "source": [
    "for pos in range(0,len(arr_MSE_val)):\n",
    "    arr_vals.append(arr_MSE_val[pos])\n",
    "    if(pos%10==9):\n",
    "        arr_MSE.append(arr_vals)\n",
    "        arr_vals=[]"
   ]
  },
  {
   "cell_type": "code",
   "execution_count": 112,
   "id": "8728e4ee",
   "metadata": {},
   "outputs": [
    {
     "data": {
      "text/plain": [
       "[[54.7,\n",
       "  45.404,\n",
       "  43.2375,\n",
       "  39.766666666666666,\n",
       "  33.35,\n",
       "  18.3,\n",
       "  7.1,\n",
       "  21.1,\n",
       "  60.3,\n",
       "  124.7],\n",
       " [41.5,\n",
       "  33.404,\n",
       "  31.5375,\n",
       "  28.56666666666667,\n",
       "  23.15,\n",
       "  11.1,\n",
       "  5.9,\n",
       "  25.9,\n",
       "  71.1,\n",
       "  141.5],\n",
       " [30.3,\n",
       "  23.404,\n",
       "  21.8375,\n",
       "  19.366666666666667,\n",
       "  14.95,\n",
       "  5.9,\n",
       "  6.7,\n",
       "  32.7,\n",
       "  83.9,\n",
       "  160.3],\n",
       " [21.1,\n",
       "  15.404,\n",
       "  14.1375,\n",
       "  12.166666666666668,\n",
       "  8.75,\n",
       "  2.7,\n",
       "  9.5,\n",
       "  41.5,\n",
       "  98.7,\n",
       "  181.1],\n",
       " [13.9, 9.404, 8.4375, 6.966666666666667, 4.55, 1.5, 14.3, 52.3, 115.5, 203.9],\n",
       " [8.7,\n",
       "  5.404000000000001,\n",
       "  4.7375,\n",
       "  3.766666666666667,\n",
       "  2.35,\n",
       "  2.3,\n",
       "  21.1,\n",
       "  65.1,\n",
       "  134.3,\n",
       "  228.7],\n",
       " [5.5, 3.404, 3.0375, 2.566666666666667, 2.15, 5.1, 29.9, 79.9, 155.1, 255.5],\n",
       " [4.3, 3.404, 3.3375, 3.366666666666667, 3.95, 9.9, 40.7, 96.7, 177.9, 284.3],\n",
       " [5.1,\n",
       "  5.404000000000002,\n",
       "  5.6375,\n",
       "  6.166666666666666,\n",
       "  7.75,\n",
       "  16.7,\n",
       "  53.5,\n",
       "  115.5,\n",
       "  202.7,\n",
       "  315.1],\n",
       " [7.9,\n",
       "  9.404,\n",
       "  9.9375,\n",
       "  10.966666666666667,\n",
       "  13.55,\n",
       "  25.5,\n",
       "  68.3,\n",
       "  136.3,\n",
       "  229.5,\n",
       "  347.9]]"
      ]
     },
     "execution_count": 112,
     "metadata": {},
     "output_type": "execute_result"
    }
   ],
   "source": [
    "arr_MSE"
   ]
  },
  {
   "cell_type": "code",
   "execution_count": 119,
   "id": "c8e3e441",
   "metadata": {},
   "outputs": [],
   "source": [
    "df_grid = pd.DataFrame(data=arr_MSE, columns=w0, index = w1)"
   ]
  },
  {
   "cell_type": "code",
   "execution_count": 120,
   "id": "23073a67",
   "metadata": {},
   "outputs": [
    {
     "data": {
      "text/html": [
       "<div>\n",
       "<style scoped>\n",
       "    .dataframe tbody tr th:only-of-type {\n",
       "        vertical-align: middle;\n",
       "    }\n",
       "\n",
       "    .dataframe tbody tr th {\n",
       "        vertical-align: top;\n",
       "    }\n",
       "\n",
       "    .dataframe thead th {\n",
       "        text-align: right;\n",
       "    }\n",
       "</style>\n",
       "<table border=\"1\" class=\"dataframe\">\n",
       "  <thead>\n",
       "    <tr style=\"text-align: right;\">\n",
       "      <th></th>\n",
       "      <th>-4</th>\n",
       "      <th>-3</th>\n",
       "      <th>-2</th>\n",
       "      <th>-1</th>\n",
       "      <th>0</th>\n",
       "      <th>1</th>\n",
       "      <th>2</th>\n",
       "      <th>3</th>\n",
       "      <th>4</th>\n",
       "      <th>5</th>\n",
       "    </tr>\n",
       "  </thead>\n",
       "  <tbody>\n",
       "    <tr>\n",
       "      <th>0.000000</th>\n",
       "      <td>54.7</td>\n",
       "      <td>45.404</td>\n",
       "      <td>43.2375</td>\n",
       "      <td>39.766667</td>\n",
       "      <td>33.35</td>\n",
       "      <td>18.3</td>\n",
       "      <td>7.1</td>\n",
       "      <td>21.1</td>\n",
       "      <td>60.3</td>\n",
       "      <td>124.7</td>\n",
       "    </tr>\n",
       "    <tr>\n",
       "      <th>0.200000</th>\n",
       "      <td>41.5</td>\n",
       "      <td>33.404</td>\n",
       "      <td>31.5375</td>\n",
       "      <td>28.566667</td>\n",
       "      <td>23.15</td>\n",
       "      <td>11.1</td>\n",
       "      <td>5.9</td>\n",
       "      <td>25.9</td>\n",
       "      <td>71.1</td>\n",
       "      <td>141.5</td>\n",
       "    </tr>\n",
       "    <tr>\n",
       "      <th>0.250000</th>\n",
       "      <td>30.3</td>\n",
       "      <td>23.404</td>\n",
       "      <td>21.8375</td>\n",
       "      <td>19.366667</td>\n",
       "      <td>14.95</td>\n",
       "      <td>5.9</td>\n",
       "      <td>6.7</td>\n",
       "      <td>32.7</td>\n",
       "      <td>83.9</td>\n",
       "      <td>160.3</td>\n",
       "    </tr>\n",
       "    <tr>\n",
       "      <th>0.333333</th>\n",
       "      <td>21.1</td>\n",
       "      <td>15.404</td>\n",
       "      <td>14.1375</td>\n",
       "      <td>12.166667</td>\n",
       "      <td>8.75</td>\n",
       "      <td>2.7</td>\n",
       "      <td>9.5</td>\n",
       "      <td>41.5</td>\n",
       "      <td>98.7</td>\n",
       "      <td>181.1</td>\n",
       "    </tr>\n",
       "    <tr>\n",
       "      <th>0.500000</th>\n",
       "      <td>13.9</td>\n",
       "      <td>9.404</td>\n",
       "      <td>8.4375</td>\n",
       "      <td>6.966667</td>\n",
       "      <td>4.55</td>\n",
       "      <td>1.5</td>\n",
       "      <td>14.3</td>\n",
       "      <td>52.3</td>\n",
       "      <td>115.5</td>\n",
       "      <td>203.9</td>\n",
       "    </tr>\n",
       "    <tr>\n",
       "      <th>1.000000</th>\n",
       "      <td>8.7</td>\n",
       "      <td>5.404</td>\n",
       "      <td>4.7375</td>\n",
       "      <td>3.766667</td>\n",
       "      <td>2.35</td>\n",
       "      <td>2.3</td>\n",
       "      <td>21.1</td>\n",
       "      <td>65.1</td>\n",
       "      <td>134.3</td>\n",
       "      <td>228.7</td>\n",
       "    </tr>\n",
       "    <tr>\n",
       "      <th>2.000000</th>\n",
       "      <td>5.5</td>\n",
       "      <td>3.404</td>\n",
       "      <td>3.0375</td>\n",
       "      <td>2.566667</td>\n",
       "      <td>2.15</td>\n",
       "      <td>5.1</td>\n",
       "      <td>29.9</td>\n",
       "      <td>79.9</td>\n",
       "      <td>155.1</td>\n",
       "      <td>255.5</td>\n",
       "    </tr>\n",
       "    <tr>\n",
       "      <th>3.000000</th>\n",
       "      <td>4.3</td>\n",
       "      <td>3.404</td>\n",
       "      <td>3.3375</td>\n",
       "      <td>3.366667</td>\n",
       "      <td>3.95</td>\n",
       "      <td>9.9</td>\n",
       "      <td>40.7</td>\n",
       "      <td>96.7</td>\n",
       "      <td>177.9</td>\n",
       "      <td>284.3</td>\n",
       "    </tr>\n",
       "    <tr>\n",
       "      <th>4.000000</th>\n",
       "      <td>5.1</td>\n",
       "      <td>5.404</td>\n",
       "      <td>5.6375</td>\n",
       "      <td>6.166667</td>\n",
       "      <td>7.75</td>\n",
       "      <td>16.7</td>\n",
       "      <td>53.5</td>\n",
       "      <td>115.5</td>\n",
       "      <td>202.7</td>\n",
       "      <td>315.1</td>\n",
       "    </tr>\n",
       "    <tr>\n",
       "      <th>5.000000</th>\n",
       "      <td>7.9</td>\n",
       "      <td>9.404</td>\n",
       "      <td>9.9375</td>\n",
       "      <td>10.966667</td>\n",
       "      <td>13.55</td>\n",
       "      <td>25.5</td>\n",
       "      <td>68.3</td>\n",
       "      <td>136.3</td>\n",
       "      <td>229.5</td>\n",
       "      <td>347.9</td>\n",
       "    </tr>\n",
       "  </tbody>\n",
       "</table>\n",
       "</div>"
      ],
      "text/plain": [
       "            -4      -3       -2         -1      0     1     2      3      4  \\\n",
       "0.000000  54.7  45.404  43.2375  39.766667  33.35  18.3   7.1   21.1   60.3   \n",
       "0.200000  41.5  33.404  31.5375  28.566667  23.15  11.1   5.9   25.9   71.1   \n",
       "0.250000  30.3  23.404  21.8375  19.366667  14.95   5.9   6.7   32.7   83.9   \n",
       "0.333333  21.1  15.404  14.1375  12.166667   8.75   2.7   9.5   41.5   98.7   \n",
       "0.500000  13.9   9.404   8.4375   6.966667   4.55   1.5  14.3   52.3  115.5   \n",
       "1.000000   8.7   5.404   4.7375   3.766667   2.35   2.3  21.1   65.1  134.3   \n",
       "2.000000   5.5   3.404   3.0375   2.566667   2.15   5.1  29.9   79.9  155.1   \n",
       "3.000000   4.3   3.404   3.3375   3.366667   3.95   9.9  40.7   96.7  177.9   \n",
       "4.000000   5.1   5.404   5.6375   6.166667   7.75  16.7  53.5  115.5  202.7   \n",
       "5.000000   7.9   9.404   9.9375  10.966667  13.55  25.5  68.3  136.3  229.5   \n",
       "\n",
       "              5  \n",
       "0.000000  124.7  \n",
       "0.200000  141.5  \n",
       "0.250000  160.3  \n",
       "0.333333  181.1  \n",
       "0.500000  203.9  \n",
       "1.000000  228.7  \n",
       "2.000000  255.5  \n",
       "3.000000  284.3  \n",
       "4.000000  315.1  \n",
       "5.000000  347.9  "
      ]
     },
     "execution_count": 120,
     "metadata": {},
     "output_type": "execute_result"
    }
   ],
   "source": [
    "df_grid"
   ]
  },
  {
   "cell_type": "markdown",
   "id": "f6654017",
   "metadata": {},
   "source": [
    "columns are c values and rows are gradient"
   ]
  },
  {
   "cell_type": "code",
   "execution_count": 121,
   "id": "d1368b03",
   "metadata": {},
   "outputs": [
    {
     "data": {
      "text/plain": [
       "-4      4.300000\n",
       "-3      3.404000\n",
       "-2      3.037500\n",
       "-1      2.566667\n",
       " 0      2.150000\n",
       " 1      1.500000\n",
       " 2      5.900000\n",
       " 3     21.100000\n",
       " 4     60.300000\n",
       " 5    124.700000\n",
       "dtype: float64"
      ]
     },
     "execution_count": 121,
     "metadata": {},
     "output_type": "execute_result"
    }
   ],
   "source": [
    "df_grid.min()"
   ]
  },
  {
   "cell_type": "code",
   "execution_count": null,
   "id": "a962eae2",
   "metadata": {},
   "outputs": [],
   "source": []
  }
 ],
 "metadata": {
  "kernelspec": {
   "display_name": "Python 3 (ipykernel)",
   "language": "python",
   "name": "python3"
  },
  "language_info": {
   "codemirror_mode": {
    "name": "ipython",
    "version": 3
   },
   "file_extension": ".py",
   "mimetype": "text/x-python",
   "name": "python",
   "nbconvert_exporter": "python",
   "pygments_lexer": "ipython3",
   "version": "3.8.2"
  }
 },
 "nbformat": 4,
 "nbformat_minor": 5
}
