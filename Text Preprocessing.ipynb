{
 "cells": [
  {
   "cell_type": "code",
   "execution_count": 1,
   "id": "7718bdd0",
   "metadata": {},
   "outputs": [],
   "source": [
    "import pandas as pd"
   ]
  },
  {
   "cell_type": "code",
   "execution_count": 2,
   "id": "d32caf4f",
   "metadata": {},
   "outputs": [],
   "source": [
    "df = pd.read_excel (r'/Users/vanshgadhia/Desktop/Machine Learning/Text Data sheet.xlsx')"
   ]
  },
  {
   "cell_type": "code",
   "execution_count": 3,
   "id": "9ab7a039",
   "metadata": {},
   "outputs": [
    {
     "data": {
      "text/html": [
       "<div>\n",
       "<style scoped>\n",
       "    .dataframe tbody tr th:only-of-type {\n",
       "        vertical-align: middle;\n",
       "    }\n",
       "\n",
       "    .dataframe tbody tr th {\n",
       "        vertical-align: top;\n",
       "    }\n",
       "\n",
       "    .dataframe thead th {\n",
       "        text-align: right;\n",
       "    }\n",
       "</style>\n",
       "<table border=\"1\" class=\"dataframe\">\n",
       "  <thead>\n",
       "    <tr style=\"text-align: right;\">\n",
       "      <th></th>\n",
       "      <th>Text</th>\n",
       "      <th>Tag</th>\n",
       "    </tr>\n",
       "  </thead>\n",
       "  <tbody>\n",
       "    <tr>\n",
       "      <th>0</th>\n",
       "      <td>A great game</td>\n",
       "      <td>Sports</td>\n",
       "    </tr>\n",
       "    <tr>\n",
       "      <th>1</th>\n",
       "      <td>The election was over</td>\n",
       "      <td>Not sports</td>\n",
       "    </tr>\n",
       "    <tr>\n",
       "      <th>2</th>\n",
       "      <td>Very clean match</td>\n",
       "      <td>Sports</td>\n",
       "    </tr>\n",
       "    <tr>\n",
       "      <th>3</th>\n",
       "      <td>A clean but forgettable game</td>\n",
       "      <td>Sports</td>\n",
       "    </tr>\n",
       "    <tr>\n",
       "      <th>4</th>\n",
       "      <td>It was a close election</td>\n",
       "      <td>Not sports</td>\n",
       "    </tr>\n",
       "  </tbody>\n",
       "</table>\n",
       "</div>"
      ],
      "text/plain": [
       "                           Text          Tag\n",
       "0                  A great game       Sports\n",
       "1         The election was over  Not sports \n",
       "2              Very clean match       Sports\n",
       "3  A clean but forgettable game       Sports\n",
       "4       It was a close election  Not sports "
      ]
     },
     "execution_count": 3,
     "metadata": {},
     "output_type": "execute_result"
    }
   ],
   "source": [
    "df"
   ]
  },
  {
   "cell_type": "code",
   "execution_count": 4,
   "id": "defa149a",
   "metadata": {},
   "outputs": [
    {
     "data": {
      "text/html": [
       "<div>\n",
       "<style scoped>\n",
       "    .dataframe tbody tr th:only-of-type {\n",
       "        vertical-align: middle;\n",
       "    }\n",
       "\n",
       "    .dataframe tbody tr th {\n",
       "        vertical-align: top;\n",
       "    }\n",
       "\n",
       "    .dataframe thead th {\n",
       "        text-align: right;\n",
       "    }\n",
       "</style>\n",
       "<table border=\"1\" class=\"dataframe\">\n",
       "  <thead>\n",
       "    <tr style=\"text-align: right;\">\n",
       "      <th></th>\n",
       "      <th>Text</th>\n",
       "      <th>Tag</th>\n",
       "    </tr>\n",
       "  </thead>\n",
       "  <tbody>\n",
       "    <tr>\n",
       "      <th>0</th>\n",
       "      <td>a great game</td>\n",
       "      <td>Sports</td>\n",
       "    </tr>\n",
       "    <tr>\n",
       "      <th>1</th>\n",
       "      <td>the election was over</td>\n",
       "      <td>Not sports</td>\n",
       "    </tr>\n",
       "    <tr>\n",
       "      <th>2</th>\n",
       "      <td>very clean match</td>\n",
       "      <td>Sports</td>\n",
       "    </tr>\n",
       "    <tr>\n",
       "      <th>3</th>\n",
       "      <td>a clean but forgettable game</td>\n",
       "      <td>Sports</td>\n",
       "    </tr>\n",
       "    <tr>\n",
       "      <th>4</th>\n",
       "      <td>it was a close election</td>\n",
       "      <td>Not sports</td>\n",
       "    </tr>\n",
       "  </tbody>\n",
       "</table>\n",
       "</div>"
      ],
      "text/plain": [
       "                           Text          Tag\n",
       "0                  a great game       Sports\n",
       "1         the election was over  Not sports \n",
       "2              very clean match       Sports\n",
       "3  a clean but forgettable game       Sports\n",
       "4       it was a close election  Not sports "
      ]
     },
     "execution_count": 4,
     "metadata": {},
     "output_type": "execute_result"
    }
   ],
   "source": [
    "for pos in range(0,df.shape[0]):\n",
    "    df.at[pos,'Text'] = df.at[pos,'Text'].lower()\n",
    "df"
   ]
  },
  {
   "cell_type": "code",
   "execution_count": 5,
   "id": "d1d85896",
   "metadata": {},
   "outputs": [],
   "source": [
    "arr = df['Text']"
   ]
  },
  {
   "cell_type": "code",
   "execution_count": 6,
   "id": "bf91222b",
   "metadata": {},
   "outputs": [],
   "source": [
    "arr_unique = []"
   ]
  },
  {
   "cell_type": "code",
   "execution_count": 7,
   "id": "0337dbe0",
   "metadata": {},
   "outputs": [
    {
     "name": "stdout",
     "output_type": "stream",
     "text": [
      "[['a', 'great', 'game'], ['the', 'election', 'was', 'over'], ['very', 'clean', 'match'], ['a', 'clean', 'but', 'forgettable', 'game'], ['it', 'was', 'a', 'close', 'election']]\n"
     ]
    }
   ],
   "source": [
    "for pos in range(0,df.shape[0]):\n",
    "    arr_unique.append(df.at[pos,'Text'].split())\n",
    "print(arr_unique)"
   ]
  },
  {
   "cell_type": "code",
   "execution_count": 8,
   "id": "0f0a1aa6",
   "metadata": {},
   "outputs": [
    {
     "name": "stdout",
     "output_type": "stream",
     "text": [
      "['a', 'great', 'game', 'the', 'election', 'was', 'over', 'very', 'clean', 'match', 'but', 'forgettable', 'it', 'close']\n"
     ]
    }
   ],
   "source": [
    "cols = []\n",
    "for pos in range(0,len(arr_unique)):\n",
    "    for num in range(0,len(arr_unique[pos])):\n",
    "        if(arr_unique[pos][num] not in cols):\n",
    "            cols.append(arr_unique[pos][num])\n",
    "print(cols)"
   ]
  },
  {
   "cell_type": "code",
   "execution_count": 9,
   "id": "b5679383",
   "metadata": {},
   "outputs": [],
   "source": [
    "num_vals = len(cols)"
   ]
  },
  {
   "cell_type": "code",
   "execution_count": 10,
   "id": "7beb487f",
   "metadata": {},
   "outputs": [
    {
     "name": "stdout",
     "output_type": "stream",
     "text": [
      "[[0, 0, 0, 0, 0, 0, 0, 0, 0, 0, 0, 0, 0, 0], [0, 0, 0, 0, 0, 0, 0, 0, 0, 0, 0, 0, 0, 0], [0, 0, 0, 0, 0, 0, 0, 0, 0, 0, 0, 0, 0, 0], [0, 0, 0, 0, 0, 0, 0, 0, 0, 0, 0, 0, 0, 0], [0, 0, 0, 0, 0, 0, 0, 0, 0, 0, 0, 0, 0, 0]]\n"
     ]
    }
   ],
   "source": [
    "arr_data = []\n",
    "arr_data_prop = []\n",
    "for pos in range(0,num_vals):\n",
    "    arr_data.append(0)\n",
    "for pos in range(0,df.shape[0]):\n",
    "    arr_data_prop.append(arr_data)\n",
    "print(arr_data_prop)"
   ]
  },
  {
   "cell_type": "code",
   "execution_count": 11,
   "id": "a1e0e053",
   "metadata": {},
   "outputs": [
    {
     "data": {
      "text/html": [
       "<div>\n",
       "<style scoped>\n",
       "    .dataframe tbody tr th:only-of-type {\n",
       "        vertical-align: middle;\n",
       "    }\n",
       "\n",
       "    .dataframe tbody tr th {\n",
       "        vertical-align: top;\n",
       "    }\n",
       "\n",
       "    .dataframe thead th {\n",
       "        text-align: right;\n",
       "    }\n",
       "</style>\n",
       "<table border=\"1\" class=\"dataframe\">\n",
       "  <thead>\n",
       "    <tr style=\"text-align: right;\">\n",
       "      <th></th>\n",
       "      <th>a</th>\n",
       "      <th>great</th>\n",
       "      <th>game</th>\n",
       "      <th>the</th>\n",
       "      <th>election</th>\n",
       "      <th>was</th>\n",
       "      <th>over</th>\n",
       "      <th>very</th>\n",
       "      <th>clean</th>\n",
       "      <th>match</th>\n",
       "      <th>but</th>\n",
       "      <th>forgettable</th>\n",
       "      <th>it</th>\n",
       "      <th>close</th>\n",
       "    </tr>\n",
       "  </thead>\n",
       "  <tbody>\n",
       "    <tr>\n",
       "      <th>0</th>\n",
       "      <td>0</td>\n",
       "      <td>0</td>\n",
       "      <td>0</td>\n",
       "      <td>0</td>\n",
       "      <td>0</td>\n",
       "      <td>0</td>\n",
       "      <td>0</td>\n",
       "      <td>0</td>\n",
       "      <td>0</td>\n",
       "      <td>0</td>\n",
       "      <td>0</td>\n",
       "      <td>0</td>\n",
       "      <td>0</td>\n",
       "      <td>0</td>\n",
       "    </tr>\n",
       "    <tr>\n",
       "      <th>1</th>\n",
       "      <td>0</td>\n",
       "      <td>0</td>\n",
       "      <td>0</td>\n",
       "      <td>0</td>\n",
       "      <td>0</td>\n",
       "      <td>0</td>\n",
       "      <td>0</td>\n",
       "      <td>0</td>\n",
       "      <td>0</td>\n",
       "      <td>0</td>\n",
       "      <td>0</td>\n",
       "      <td>0</td>\n",
       "      <td>0</td>\n",
       "      <td>0</td>\n",
       "    </tr>\n",
       "    <tr>\n",
       "      <th>2</th>\n",
       "      <td>0</td>\n",
       "      <td>0</td>\n",
       "      <td>0</td>\n",
       "      <td>0</td>\n",
       "      <td>0</td>\n",
       "      <td>0</td>\n",
       "      <td>0</td>\n",
       "      <td>0</td>\n",
       "      <td>0</td>\n",
       "      <td>0</td>\n",
       "      <td>0</td>\n",
       "      <td>0</td>\n",
       "      <td>0</td>\n",
       "      <td>0</td>\n",
       "    </tr>\n",
       "    <tr>\n",
       "      <th>3</th>\n",
       "      <td>0</td>\n",
       "      <td>0</td>\n",
       "      <td>0</td>\n",
       "      <td>0</td>\n",
       "      <td>0</td>\n",
       "      <td>0</td>\n",
       "      <td>0</td>\n",
       "      <td>0</td>\n",
       "      <td>0</td>\n",
       "      <td>0</td>\n",
       "      <td>0</td>\n",
       "      <td>0</td>\n",
       "      <td>0</td>\n",
       "      <td>0</td>\n",
       "    </tr>\n",
       "    <tr>\n",
       "      <th>4</th>\n",
       "      <td>0</td>\n",
       "      <td>0</td>\n",
       "      <td>0</td>\n",
       "      <td>0</td>\n",
       "      <td>0</td>\n",
       "      <td>0</td>\n",
       "      <td>0</td>\n",
       "      <td>0</td>\n",
       "      <td>0</td>\n",
       "      <td>0</td>\n",
       "      <td>0</td>\n",
       "      <td>0</td>\n",
       "      <td>0</td>\n",
       "      <td>0</td>\n",
       "    </tr>\n",
       "  </tbody>\n",
       "</table>\n",
       "</div>"
      ],
      "text/plain": [
       "   a  great  game  the  election  was  over  very  clean  match  but  \\\n",
       "0  0      0     0    0         0    0     0     0      0      0    0   \n",
       "1  0      0     0    0         0    0     0     0      0      0    0   \n",
       "2  0      0     0    0         0    0     0     0      0      0    0   \n",
       "3  0      0     0    0         0    0     0     0      0      0    0   \n",
       "4  0      0     0    0         0    0     0     0      0      0    0   \n",
       "\n",
       "   forgettable  it  close  \n",
       "0            0   0      0  \n",
       "1            0   0      0  \n",
       "2            0   0      0  \n",
       "3            0   0      0  \n",
       "4            0   0      0  "
      ]
     },
     "execution_count": 11,
     "metadata": {},
     "output_type": "execute_result"
    }
   ],
   "source": [
    "text = pd.DataFrame(data = arr_data_prop,columns=cols)\n",
    "text"
   ]
  },
  {
   "cell_type": "code",
   "execution_count": 12,
   "id": "33e00c35",
   "metadata": {},
   "outputs": [
    {
     "name": "stdout",
     "output_type": "stream",
     "text": [
      "Index(['a', 'great', 'game', 'the', 'election', 'was', 'over', 'very', 'clean',\n",
      "       'match', 'but', 'forgettable', 'it', 'close'],\n",
      "      dtype='object')\n"
     ]
    }
   ],
   "source": [
    "print(text.columns)"
   ]
  },
  {
   "cell_type": "code",
   "execution_count": 13,
   "id": "a8bb9361",
   "metadata": {},
   "outputs": [
    {
     "data": {
      "text/html": [
       "<div>\n",
       "<style scoped>\n",
       "    .dataframe tbody tr th:only-of-type {\n",
       "        vertical-align: middle;\n",
       "    }\n",
       "\n",
       "    .dataframe tbody tr th {\n",
       "        vertical-align: top;\n",
       "    }\n",
       "\n",
       "    .dataframe thead th {\n",
       "        text-align: right;\n",
       "    }\n",
       "</style>\n",
       "<table border=\"1\" class=\"dataframe\">\n",
       "  <thead>\n",
       "    <tr style=\"text-align: right;\">\n",
       "      <th></th>\n",
       "      <th>a</th>\n",
       "      <th>great</th>\n",
       "      <th>game</th>\n",
       "      <th>the</th>\n",
       "      <th>election</th>\n",
       "      <th>was</th>\n",
       "      <th>over</th>\n",
       "      <th>very</th>\n",
       "      <th>clean</th>\n",
       "      <th>match</th>\n",
       "      <th>but</th>\n",
       "      <th>forgettable</th>\n",
       "      <th>it</th>\n",
       "      <th>close</th>\n",
       "    </tr>\n",
       "  </thead>\n",
       "  <tbody>\n",
       "    <tr>\n",
       "      <th>0</th>\n",
       "      <td>2</td>\n",
       "      <td>2</td>\n",
       "      <td>2</td>\n",
       "      <td>1</td>\n",
       "      <td>1</td>\n",
       "      <td>1</td>\n",
       "      <td>1</td>\n",
       "      <td>1</td>\n",
       "      <td>1</td>\n",
       "      <td>1</td>\n",
       "      <td>1</td>\n",
       "      <td>1</td>\n",
       "      <td>1</td>\n",
       "      <td>1</td>\n",
       "    </tr>\n",
       "    <tr>\n",
       "      <th>1</th>\n",
       "      <td>1</td>\n",
       "      <td>1</td>\n",
       "      <td>1</td>\n",
       "      <td>2</td>\n",
       "      <td>2</td>\n",
       "      <td>2</td>\n",
       "      <td>2</td>\n",
       "      <td>1</td>\n",
       "      <td>1</td>\n",
       "      <td>1</td>\n",
       "      <td>1</td>\n",
       "      <td>1</td>\n",
       "      <td>1</td>\n",
       "      <td>1</td>\n",
       "    </tr>\n",
       "    <tr>\n",
       "      <th>2</th>\n",
       "      <td>1</td>\n",
       "      <td>1</td>\n",
       "      <td>1</td>\n",
       "      <td>1</td>\n",
       "      <td>1</td>\n",
       "      <td>1</td>\n",
       "      <td>1</td>\n",
       "      <td>2</td>\n",
       "      <td>2</td>\n",
       "      <td>2</td>\n",
       "      <td>1</td>\n",
       "      <td>1</td>\n",
       "      <td>1</td>\n",
       "      <td>1</td>\n",
       "    </tr>\n",
       "    <tr>\n",
       "      <th>3</th>\n",
       "      <td>2</td>\n",
       "      <td>1</td>\n",
       "      <td>2</td>\n",
       "      <td>1</td>\n",
       "      <td>1</td>\n",
       "      <td>1</td>\n",
       "      <td>1</td>\n",
       "      <td>1</td>\n",
       "      <td>2</td>\n",
       "      <td>1</td>\n",
       "      <td>2</td>\n",
       "      <td>2</td>\n",
       "      <td>1</td>\n",
       "      <td>1</td>\n",
       "    </tr>\n",
       "    <tr>\n",
       "      <th>4</th>\n",
       "      <td>2</td>\n",
       "      <td>1</td>\n",
       "      <td>1</td>\n",
       "      <td>1</td>\n",
       "      <td>2</td>\n",
       "      <td>2</td>\n",
       "      <td>1</td>\n",
       "      <td>1</td>\n",
       "      <td>1</td>\n",
       "      <td>1</td>\n",
       "      <td>1</td>\n",
       "      <td>1</td>\n",
       "      <td>2</td>\n",
       "      <td>2</td>\n",
       "    </tr>\n",
       "  </tbody>\n",
       "</table>\n",
       "</div>"
      ],
      "text/plain": [
       "   a  great  game  the  election  was  over  very  clean  match  but  \\\n",
       "0  2      2     2    1         1    1     1     1      1      1    1   \n",
       "1  1      1     1    2         2    2     2     1      1      1    1   \n",
       "2  1      1     1    1         1    1     1     2      2      2    1   \n",
       "3  2      1     2    1         1    1     1     1      2      1    2   \n",
       "4  2      1     1    1         2    2     1     1      1      1    1   \n",
       "\n",
       "   forgettable  it  close  \n",
       "0            1   1      1  \n",
       "1            1   1      1  \n",
       "2            1   1      1  \n",
       "3            2   1      1  \n",
       "4            1   2      2  "
      ]
     },
     "execution_count": 13,
     "metadata": {},
     "output_type": "execute_result"
    }
   ],
   "source": [
    "freq=0\n",
    "for pos in text.columns:\n",
    "    freq=0\n",
    "    for row in range(0,df.shape[0]):\n",
    "        freq=1\n",
    "        if(pos in df.at[row,'Text'].split()):\n",
    "            freq+=1\n",
    "        text.at[row,pos]=freq\n",
    "text"
   ]
  },
  {
   "cell_type": "code",
   "execution_count": 14,
   "id": "fee51530",
   "metadata": {},
   "outputs": [],
   "source": [
    "from sklearn.feature_extraction.text import CountVectorizer"
   ]
  },
  {
   "cell_type": "code",
   "execution_count": 15,
   "id": "09719721",
   "metadata": {},
   "outputs": [
    {
     "name": "stdout",
     "output_type": "stream",
     "text": [
      "['a great game', 'the election was over', 'very clean match', 'a clean but forgettable game', 'it was a close election']\n"
     ]
    }
   ],
   "source": [
    "arr_text = []\n",
    "for pos in range(0,df.shape[0]):\n",
    "    arr_text.append(str(df.at[pos,'Text']))\n",
    "print(arr_text)"
   ]
  },
  {
   "cell_type": "code",
   "execution_count": 16,
   "id": "f68edc76",
   "metadata": {},
   "outputs": [],
   "source": [
    "cv = CountVectorizer(token_pattern=r\"(?u)\\b\\w+\\b\")"
   ]
  },
  {
   "cell_type": "code",
   "execution_count": 17,
   "id": "61951c06",
   "metadata": {},
   "outputs": [],
   "source": [
    "count_vector=cv.fit_transform(arr_text)"
   ]
  },
  {
   "cell_type": "markdown",
   "id": "c4c9ffca",
   "metadata": {},
   "source": [
    "This means that there are 5 rows and 15 columns meaning 15 unique words"
   ]
  },
  {
   "cell_type": "code",
   "execution_count": 18,
   "id": "1550217f",
   "metadata": {},
   "outputs": [
    {
     "data": {
      "text/plain": [
       "(5, 14)"
      ]
     },
     "execution_count": 18,
     "metadata": {},
     "output_type": "execute_result"
    }
   ],
   "source": [
    "count_vector.shape"
   ]
  },
  {
   "cell_type": "code",
   "execution_count": 19,
   "id": "8c39b752",
   "metadata": {},
   "outputs": [],
   "source": [
    "count_array = count_vector.toarray()"
   ]
  },
  {
   "cell_type": "code",
   "execution_count": 20,
   "id": "e80c52b7",
   "metadata": {},
   "outputs": [
    {
     "name": "stdout",
     "output_type": "stream",
     "text": [
      "[[1 0 0 0 0 0 1 1 0 0 0 0 0 0]\n",
      " [0 0 0 0 1 0 0 0 0 0 1 1 0 1]\n",
      " [0 0 1 0 0 0 0 0 0 1 0 0 1 0]\n",
      " [1 1 1 0 0 1 1 0 0 0 0 0 0 0]\n",
      " [1 0 0 1 1 0 0 0 1 0 0 0 0 1]]\n"
     ]
    }
   ],
   "source": [
    "print(count_array)"
   ]
  },
  {
   "cell_type": "code",
   "execution_count": 21,
   "id": "68e708ed",
   "metadata": {},
   "outputs": [
    {
     "data": {
      "text/plain": [
       "['a',\n",
       " 'but',\n",
       " 'clean',\n",
       " 'close',\n",
       " 'election',\n",
       " 'forgettable',\n",
       " 'game',\n",
       " 'great',\n",
       " 'it',\n",
       " 'match',\n",
       " 'over',\n",
       " 'the',\n",
       " 'very',\n",
       " 'was']"
      ]
     },
     "execution_count": 21,
     "metadata": {},
     "output_type": "execute_result"
    }
   ],
   "source": [
    "arr_colv = cv.get_feature_names()\n",
    "arr_colv"
   ]
  },
  {
   "cell_type": "code",
   "execution_count": 22,
   "id": "955db624",
   "metadata": {},
   "outputs": [],
   "source": [
    "df_vect = pd.DataFrame(data=count_array,columns = cv.get_feature_names())"
   ]
  },
  {
   "cell_type": "code",
   "execution_count": 23,
   "id": "574d631a",
   "metadata": {},
   "outputs": [],
   "source": [
    "for pos in df_vect.columns:\n",
    "    for row in range(0,df_vect.shape[0]):\n",
    "        df_vect.at[row,pos] = df_vect.at[row,pos]+1"
   ]
  },
  {
   "cell_type": "code",
   "execution_count": 24,
   "id": "e474ba09",
   "metadata": {},
   "outputs": [
    {
     "data": {
      "text/html": [
       "<div>\n",
       "<style scoped>\n",
       "    .dataframe tbody tr th:only-of-type {\n",
       "        vertical-align: middle;\n",
       "    }\n",
       "\n",
       "    .dataframe tbody tr th {\n",
       "        vertical-align: top;\n",
       "    }\n",
       "\n",
       "    .dataframe thead th {\n",
       "        text-align: right;\n",
       "    }\n",
       "</style>\n",
       "<table border=\"1\" class=\"dataframe\">\n",
       "  <thead>\n",
       "    <tr style=\"text-align: right;\">\n",
       "      <th></th>\n",
       "      <th>a</th>\n",
       "      <th>but</th>\n",
       "      <th>clean</th>\n",
       "      <th>close</th>\n",
       "      <th>election</th>\n",
       "      <th>forgettable</th>\n",
       "      <th>game</th>\n",
       "      <th>great</th>\n",
       "      <th>it</th>\n",
       "      <th>match</th>\n",
       "      <th>over</th>\n",
       "      <th>the</th>\n",
       "      <th>very</th>\n",
       "      <th>was</th>\n",
       "    </tr>\n",
       "  </thead>\n",
       "  <tbody>\n",
       "    <tr>\n",
       "      <th>0</th>\n",
       "      <td>2</td>\n",
       "      <td>1</td>\n",
       "      <td>1</td>\n",
       "      <td>1</td>\n",
       "      <td>1</td>\n",
       "      <td>1</td>\n",
       "      <td>2</td>\n",
       "      <td>2</td>\n",
       "      <td>1</td>\n",
       "      <td>1</td>\n",
       "      <td>1</td>\n",
       "      <td>1</td>\n",
       "      <td>1</td>\n",
       "      <td>1</td>\n",
       "    </tr>\n",
       "    <tr>\n",
       "      <th>1</th>\n",
       "      <td>1</td>\n",
       "      <td>1</td>\n",
       "      <td>1</td>\n",
       "      <td>1</td>\n",
       "      <td>2</td>\n",
       "      <td>1</td>\n",
       "      <td>1</td>\n",
       "      <td>1</td>\n",
       "      <td>1</td>\n",
       "      <td>1</td>\n",
       "      <td>2</td>\n",
       "      <td>2</td>\n",
       "      <td>1</td>\n",
       "      <td>2</td>\n",
       "    </tr>\n",
       "    <tr>\n",
       "      <th>2</th>\n",
       "      <td>1</td>\n",
       "      <td>1</td>\n",
       "      <td>2</td>\n",
       "      <td>1</td>\n",
       "      <td>1</td>\n",
       "      <td>1</td>\n",
       "      <td>1</td>\n",
       "      <td>1</td>\n",
       "      <td>1</td>\n",
       "      <td>2</td>\n",
       "      <td>1</td>\n",
       "      <td>1</td>\n",
       "      <td>2</td>\n",
       "      <td>1</td>\n",
       "    </tr>\n",
       "    <tr>\n",
       "      <th>3</th>\n",
       "      <td>2</td>\n",
       "      <td>2</td>\n",
       "      <td>2</td>\n",
       "      <td>1</td>\n",
       "      <td>1</td>\n",
       "      <td>2</td>\n",
       "      <td>2</td>\n",
       "      <td>1</td>\n",
       "      <td>1</td>\n",
       "      <td>1</td>\n",
       "      <td>1</td>\n",
       "      <td>1</td>\n",
       "      <td>1</td>\n",
       "      <td>1</td>\n",
       "    </tr>\n",
       "    <tr>\n",
       "      <th>4</th>\n",
       "      <td>2</td>\n",
       "      <td>1</td>\n",
       "      <td>1</td>\n",
       "      <td>2</td>\n",
       "      <td>2</td>\n",
       "      <td>1</td>\n",
       "      <td>1</td>\n",
       "      <td>1</td>\n",
       "      <td>2</td>\n",
       "      <td>1</td>\n",
       "      <td>1</td>\n",
       "      <td>1</td>\n",
       "      <td>1</td>\n",
       "      <td>2</td>\n",
       "    </tr>\n",
       "  </tbody>\n",
       "</table>\n",
       "</div>"
      ],
      "text/plain": [
       "   a  but  clean  close  election  forgettable  game  great  it  match  over  \\\n",
       "0  2    1      1      1         1            1     2      2   1      1     1   \n",
       "1  1    1      1      1         2            1     1      1   1      1     2   \n",
       "2  1    1      2      1         1            1     1      1   1      2     1   \n",
       "3  2    2      2      1         1            2     2      1   1      1     1   \n",
       "4  2    1      1      2         2            1     1      1   2      1     1   \n",
       "\n",
       "   the  very  was  \n",
       "0    1     1    1  \n",
       "1    2     1    2  \n",
       "2    1     2    1  \n",
       "3    1     1    1  \n",
       "4    1     1    2  "
      ]
     },
     "execution_count": 24,
     "metadata": {},
     "output_type": "execute_result"
    }
   ],
   "source": [
    "df_vect"
   ]
  },
  {
   "cell_type": "code",
   "execution_count": 25,
   "id": "8abbcd5f",
   "metadata": {},
   "outputs": [],
   "source": [
    "from sklearn.preprocessing import LabelEncoder"
   ]
  },
  {
   "cell_type": "code",
   "execution_count": 26,
   "id": "912e07c0",
   "metadata": {},
   "outputs": [],
   "source": [
    "label_encoder_y = LabelEncoder()"
   ]
  },
  {
   "cell_type": "code",
   "execution_count": 27,
   "id": "e790dd9c",
   "metadata": {},
   "outputs": [],
   "source": [
    "col_y = df.columns[-1]"
   ]
  },
  {
   "cell_type": "code",
   "execution_count": 28,
   "id": "ae69e16e",
   "metadata": {},
   "outputs": [],
   "source": [
    "arr_cols_prop =[]\n",
    "arr_cols_prop.append(col_y+' Encode')"
   ]
  },
  {
   "cell_type": "code",
   "execution_count": 29,
   "id": "dc119abc",
   "metadata": {},
   "outputs": [],
   "source": [
    "data=[]"
   ]
  },
  {
   "cell_type": "code",
   "execution_count": 30,
   "id": "419b4443",
   "metadata": {},
   "outputs": [
    {
     "data": {
      "text/html": [
       "<div>\n",
       "<style scoped>\n",
       "    .dataframe tbody tr th:only-of-type {\n",
       "        vertical-align: middle;\n",
       "    }\n",
       "\n",
       "    .dataframe tbody tr th {\n",
       "        vertical-align: top;\n",
       "    }\n",
       "\n",
       "    .dataframe thead th {\n",
       "        text-align: right;\n",
       "    }\n",
       "</style>\n",
       "<table border=\"1\" class=\"dataframe\">\n",
       "  <thead>\n",
       "    <tr style=\"text-align: right;\">\n",
       "      <th></th>\n",
       "      <th>Tag Encode</th>\n",
       "    </tr>\n",
       "  </thead>\n",
       "  <tbody>\n",
       "  </tbody>\n",
       "</table>\n",
       "</div>"
      ],
      "text/plain": [
       "Empty DataFrame\n",
       "Columns: [Tag Encode]\n",
       "Index: []"
      ]
     },
     "execution_count": 30,
     "metadata": {},
     "output_type": "execute_result"
    }
   ],
   "source": [
    "label = pd.DataFrame(data, columns=arr_cols_prop)\n",
    "label"
   ]
  },
  {
   "cell_type": "code",
   "execution_count": 31,
   "id": "d3e4963d",
   "metadata": {},
   "outputs": [
    {
     "data": {
      "text/html": [
       "<div>\n",
       "<style scoped>\n",
       "    .dataframe tbody tr th:only-of-type {\n",
       "        vertical-align: middle;\n",
       "    }\n",
       "\n",
       "    .dataframe tbody tr th {\n",
       "        vertical-align: top;\n",
       "    }\n",
       "\n",
       "    .dataframe thead th {\n",
       "        text-align: right;\n",
       "    }\n",
       "</style>\n",
       "<table border=\"1\" class=\"dataframe\">\n",
       "  <thead>\n",
       "    <tr style=\"text-align: right;\">\n",
       "      <th></th>\n",
       "      <th>Tag Encode</th>\n",
       "    </tr>\n",
       "  </thead>\n",
       "  <tbody>\n",
       "    <tr>\n",
       "      <th>0</th>\n",
       "      <td>1</td>\n",
       "    </tr>\n",
       "    <tr>\n",
       "      <th>1</th>\n",
       "      <td>0</td>\n",
       "    </tr>\n",
       "    <tr>\n",
       "      <th>2</th>\n",
       "      <td>1</td>\n",
       "    </tr>\n",
       "    <tr>\n",
       "      <th>3</th>\n",
       "      <td>1</td>\n",
       "    </tr>\n",
       "    <tr>\n",
       "      <th>4</th>\n",
       "      <td>0</td>\n",
       "    </tr>\n",
       "  </tbody>\n",
       "</table>\n",
       "</div>"
      ],
      "text/plain": [
       "   Tag Encode\n",
       "0           1\n",
       "1           0\n",
       "2           1\n",
       "3           1\n",
       "4           0"
      ]
     },
     "execution_count": 31,
     "metadata": {},
     "output_type": "execute_result"
    }
   ],
   "source": [
    "label[col_y+' Encode'] = label_encoder_y.fit_transform(df[col_y])\n",
    "label"
   ]
  },
  {
   "cell_type": "code",
   "execution_count": 32,
   "id": "4695d17b",
   "metadata": {},
   "outputs": [
    {
     "data": {
      "text/plain": [
       "'Tag'"
      ]
     },
     "execution_count": 32,
     "metadata": {},
     "output_type": "execute_result"
    }
   ],
   "source": [
    "col_y"
   ]
  },
  {
   "cell_type": "code",
   "execution_count": 33,
   "id": "399abb71",
   "metadata": {},
   "outputs": [
    {
     "name": "stdout",
     "output_type": "stream",
     "text": [
      "{'Sports', 'Not sports '}\n"
     ]
    }
   ],
   "source": [
    "arr_s1=[]\n",
    "for pos in range (0,df.shape[0]):\n",
    "    arr_s1.append(df[col_y][pos])\n",
    "arr_s = set(arr_s1)\n",
    "print(arr_s)"
   ]
  },
  {
   "cell_type": "code",
   "execution_count": 34,
   "id": "d4ca8e7f",
   "metadata": {},
   "outputs": [
    {
     "data": {
      "text/plain": [
       "array(['Sports', 'Not sports '], dtype=object)"
      ]
     },
     "execution_count": 34,
     "metadata": {},
     "output_type": "execute_result"
    }
   ],
   "source": [
    "unique_vals = df[col_y].unique()\n",
    "unique_vals"
   ]
  },
  {
   "cell_type": "code",
   "execution_count": 35,
   "id": "4b4b8db8",
   "metadata": {},
   "outputs": [
    {
     "name": "stdout",
     "output_type": "stream",
     "text": [
      "[3, 2]\n"
     ]
    }
   ],
   "source": [
    "freq=[]\n",
    "count1=0\n",
    "for pos in arr_s:\n",
    "    count1=0\n",
    "    for row in range(0,df.shape[0]):\n",
    "        if(df.at[row,col_y]==pos):\n",
    "            count1+=1\n",
    "    freq.append(count1)\n",
    "print(freq)"
   ]
  },
  {
   "cell_type": "code",
   "execution_count": 36,
   "id": "c7445b23",
   "metadata": {},
   "outputs": [
    {
     "name": "stdout",
     "output_type": "stream",
     "text": [
      "{'Sports': 3, 'Not sports ': 2}\n"
     ]
    }
   ],
   "source": [
    "iterator = iter(arr_s)\n",
    "diction={\n",
    "}\n",
    "for pos in range(0,len(arr_s)):\n",
    "    a = next(iterator, None)\n",
    "    diction[a]=freq[pos]\n",
    "print(diction)"
   ]
  },
  {
   "cell_type": "code",
   "execution_count": 37,
   "id": "28d71ec1",
   "metadata": {},
   "outputs": [
    {
     "data": {
      "text/plain": [
       "['a',\n",
       " 'but',\n",
       " 'clean',\n",
       " 'close',\n",
       " 'election',\n",
       " 'forgettable',\n",
       " 'game',\n",
       " 'great',\n",
       " 'it',\n",
       " 'match',\n",
       " 'over',\n",
       " 'the',\n",
       " 'very',\n",
       " 'was']"
      ]
     },
     "execution_count": 37,
     "metadata": {},
     "output_type": "execute_result"
    }
   ],
   "source": [
    "arr_colv"
   ]
  },
  {
   "cell_type": "code",
   "execution_count": 38,
   "id": "40b09e86",
   "metadata": {},
   "outputs": [],
   "source": [
    "no_mult ={\n",
    "    \n",
    "}"
   ]
  },
  {
   "cell_type": "code",
   "execution_count": 39,
   "id": "da8e1fda",
   "metadata": {},
   "outputs": [
    {
     "name": "stdout",
     "output_type": "stream",
     "text": [
      "{'a': ['Sports', 'Not sports '], 'but': ['Sports', 'Not sports '], 'clean': ['Sports', 'Not sports '], 'close': ['Sports', 'Not sports '], 'election': ['Sports', 'Not sports '], 'forgettable': ['Sports', 'Not sports '], 'game': ['Sports', 'Not sports '], 'great': ['Sports', 'Not sports '], 'it': ['Sports', 'Not sports '], 'match': ['Sports', 'Not sports '], 'over': ['Sports', 'Not sports '], 'the': ['Sports', 'Not sports '], 'very': ['Sports', 'Not sports '], 'was': ['Sports', 'Not sports ']}\n"
     ]
    }
   ],
   "source": [
    "for pos in arr_colv:\n",
    "    arr_dict=[]\n",
    "    no_mult[pos]={}\n",
    "    for col in unique_vals:\n",
    "        arr_dict.append(col)\n",
    "    no_mult[pos]=arr_dict\n",
    "print(no_mult)"
   ]
  },
  {
   "cell_type": "code",
   "execution_count": 40,
   "id": "0a438ef9",
   "metadata": {},
   "outputs": [],
   "source": [
    "x_vals_col = df.columns[0]"
   ]
  },
  {
   "cell_type": "code",
   "execution_count": 41,
   "id": "d3675de8",
   "metadata": {},
   "outputs": [],
   "source": [
    "prop_dict={\n",
    "    \n",
    "}"
   ]
  },
  {
   "cell_type": "code",
   "execution_count": 42,
   "id": "3ade2cb3",
   "metadata": {},
   "outputs": [
    {
     "name": "stdout",
     "output_type": "stream",
     "text": [
      "{'a': {'Sports': 0.45454545454545453, 'Not sports ': 0.3333333333333333}, 'but': {'Sports': 0.36363636363636365, 'Not sports ': 0.2222222222222222}, 'clean': {'Sports': 0.45454545454545453, 'Not sports ': 0.2222222222222222}, 'close': {'Sports': 0.2727272727272727, 'Not sports ': 0.3333333333333333}, 'election': {'Sports': 0.2727272727272727, 'Not sports ': 0.4444444444444444}, 'forgettable': {'Sports': 0.36363636363636365, 'Not sports ': 0.2222222222222222}, 'game': {'Sports': 0.45454545454545453, 'Not sports ': 0.2222222222222222}, 'great': {'Sports': 0.36363636363636365, 'Not sports ': 0.2222222222222222}, 'it': {'Sports': 0.2727272727272727, 'Not sports ': 0.3333333333333333}, 'match': {'Sports': 0.36363636363636365, 'Not sports ': 0.2222222222222222}, 'over': {'Sports': 0.2727272727272727, 'Not sports ': 0.3333333333333333}, 'the': {'Sports': 0.2727272727272727, 'Not sports ': 0.3333333333333333}, 'very': {'Sports': 0.36363636363636365, 'Not sports ': 0.2222222222222222}, 'was': {'Sports': 0.2727272727272727, 'Not sports ': 0.4444444444444444}}\n"
     ]
    }
   ],
   "source": [
    "for pos in arr_colv:\n",
    "    prop_dict[pos]={}\n",
    "    for val in range(0,len(no_mult[pos])):\n",
    "        frequency=0\n",
    "        freq_total=0\n",
    "        value = no_mult[pos][val]\n",
    "        for row in range(0,df.shape[0]):\n",
    "            if(df.at[row,col_y]==value and df_vect.at[row,pos]>=1):\n",
    "                frequency+=df_vect.at[row,pos]\n",
    "            if(df.at[row,col_y]==value):\n",
    "                freq_total+=len(df.at[row,x_vals_col].split())\n",
    "        prop_dict[pos][value]=frequency/freq_total\n",
    "print(prop_dict)"
   ]
  },
  {
   "cell_type": "code",
   "execution_count": 43,
   "id": "76d0b230",
   "metadata": {},
   "outputs": [
    {
     "data": {
      "text/html": [
       "<div>\n",
       "<style scoped>\n",
       "    .dataframe tbody tr th:only-of-type {\n",
       "        vertical-align: middle;\n",
       "    }\n",
       "\n",
       "    .dataframe tbody tr th {\n",
       "        vertical-align: top;\n",
       "    }\n",
       "\n",
       "    .dataframe thead th {\n",
       "        text-align: right;\n",
       "    }\n",
       "</style>\n",
       "<table border=\"1\" class=\"dataframe\">\n",
       "  <thead>\n",
       "    <tr style=\"text-align: right;\">\n",
       "      <th></th>\n",
       "      <th>Text</th>\n",
       "      <th>Tag</th>\n",
       "    </tr>\n",
       "  </thead>\n",
       "  <tbody>\n",
       "    <tr>\n",
       "      <th>0</th>\n",
       "      <td>a great game</td>\n",
       "      <td>Sports</td>\n",
       "    </tr>\n",
       "    <tr>\n",
       "      <th>1</th>\n",
       "      <td>the election was over</td>\n",
       "      <td>Not sports</td>\n",
       "    </tr>\n",
       "    <tr>\n",
       "      <th>2</th>\n",
       "      <td>very clean match</td>\n",
       "      <td>Sports</td>\n",
       "    </tr>\n",
       "    <tr>\n",
       "      <th>3</th>\n",
       "      <td>a clean but forgettable game</td>\n",
       "      <td>Sports</td>\n",
       "    </tr>\n",
       "    <tr>\n",
       "      <th>4</th>\n",
       "      <td>it was a close election</td>\n",
       "      <td>Not sports</td>\n",
       "    </tr>\n",
       "  </tbody>\n",
       "</table>\n",
       "</div>"
      ],
      "text/plain": [
       "                           Text          Tag\n",
       "0                  a great game       Sports\n",
       "1         the election was over  Not sports \n",
       "2              very clean match       Sports\n",
       "3  a clean but forgettable game       Sports\n",
       "4       it was a close election  Not sports "
      ]
     },
     "execution_count": 43,
     "metadata": {},
     "output_type": "execute_result"
    }
   ],
   "source": [
    "df"
   ]
  },
  {
   "cell_type": "code",
   "execution_count": 44,
   "id": "3eb3ed93",
   "metadata": {},
   "outputs": [
    {
     "data": {
      "text/html": [
       "<div>\n",
       "<style scoped>\n",
       "    .dataframe tbody tr th:only-of-type {\n",
       "        vertical-align: middle;\n",
       "    }\n",
       "\n",
       "    .dataframe tbody tr th {\n",
       "        vertical-align: top;\n",
       "    }\n",
       "\n",
       "    .dataframe thead th {\n",
       "        text-align: right;\n",
       "    }\n",
       "</style>\n",
       "<table border=\"1\" class=\"dataframe\">\n",
       "  <thead>\n",
       "    <tr style=\"text-align: right;\">\n",
       "      <th></th>\n",
       "      <th>a</th>\n",
       "      <th>but</th>\n",
       "      <th>clean</th>\n",
       "      <th>close</th>\n",
       "      <th>election</th>\n",
       "      <th>forgettable</th>\n",
       "      <th>game</th>\n",
       "      <th>great</th>\n",
       "      <th>it</th>\n",
       "      <th>match</th>\n",
       "      <th>over</th>\n",
       "      <th>the</th>\n",
       "      <th>very</th>\n",
       "      <th>was</th>\n",
       "    </tr>\n",
       "  </thead>\n",
       "  <tbody>\n",
       "    <tr>\n",
       "      <th>0</th>\n",
       "      <td>2</td>\n",
       "      <td>1</td>\n",
       "      <td>1</td>\n",
       "      <td>1</td>\n",
       "      <td>1</td>\n",
       "      <td>1</td>\n",
       "      <td>2</td>\n",
       "      <td>2</td>\n",
       "      <td>1</td>\n",
       "      <td>1</td>\n",
       "      <td>1</td>\n",
       "      <td>1</td>\n",
       "      <td>1</td>\n",
       "      <td>1</td>\n",
       "    </tr>\n",
       "    <tr>\n",
       "      <th>1</th>\n",
       "      <td>1</td>\n",
       "      <td>1</td>\n",
       "      <td>1</td>\n",
       "      <td>1</td>\n",
       "      <td>2</td>\n",
       "      <td>1</td>\n",
       "      <td>1</td>\n",
       "      <td>1</td>\n",
       "      <td>1</td>\n",
       "      <td>1</td>\n",
       "      <td>2</td>\n",
       "      <td>2</td>\n",
       "      <td>1</td>\n",
       "      <td>2</td>\n",
       "    </tr>\n",
       "    <tr>\n",
       "      <th>2</th>\n",
       "      <td>1</td>\n",
       "      <td>1</td>\n",
       "      <td>2</td>\n",
       "      <td>1</td>\n",
       "      <td>1</td>\n",
       "      <td>1</td>\n",
       "      <td>1</td>\n",
       "      <td>1</td>\n",
       "      <td>1</td>\n",
       "      <td>2</td>\n",
       "      <td>1</td>\n",
       "      <td>1</td>\n",
       "      <td>2</td>\n",
       "      <td>1</td>\n",
       "    </tr>\n",
       "    <tr>\n",
       "      <th>3</th>\n",
       "      <td>2</td>\n",
       "      <td>2</td>\n",
       "      <td>2</td>\n",
       "      <td>1</td>\n",
       "      <td>1</td>\n",
       "      <td>2</td>\n",
       "      <td>2</td>\n",
       "      <td>1</td>\n",
       "      <td>1</td>\n",
       "      <td>1</td>\n",
       "      <td>1</td>\n",
       "      <td>1</td>\n",
       "      <td>1</td>\n",
       "      <td>1</td>\n",
       "    </tr>\n",
       "    <tr>\n",
       "      <th>4</th>\n",
       "      <td>2</td>\n",
       "      <td>1</td>\n",
       "      <td>1</td>\n",
       "      <td>2</td>\n",
       "      <td>2</td>\n",
       "      <td>1</td>\n",
       "      <td>1</td>\n",
       "      <td>1</td>\n",
       "      <td>2</td>\n",
       "      <td>1</td>\n",
       "      <td>1</td>\n",
       "      <td>1</td>\n",
       "      <td>1</td>\n",
       "      <td>2</td>\n",
       "    </tr>\n",
       "  </tbody>\n",
       "</table>\n",
       "</div>"
      ],
      "text/plain": [
       "   a  but  clean  close  election  forgettable  game  great  it  match  over  \\\n",
       "0  2    1      1      1         1            1     2      2   1      1     1   \n",
       "1  1    1      1      1         2            1     1      1   1      1     2   \n",
       "2  1    1      2      1         1            1     1      1   1      2     1   \n",
       "3  2    2      2      1         1            2     2      1   1      1     1   \n",
       "4  2    1      1      2         2            1     1      1   2      1     1   \n",
       "\n",
       "   the  very  was  \n",
       "0    1     1    1  \n",
       "1    2     1    2  \n",
       "2    1     2    1  \n",
       "3    1     1    1  \n",
       "4    1     1    2  "
      ]
     },
     "execution_count": 44,
     "metadata": {},
     "output_type": "execute_result"
    }
   ],
   "source": [
    "df_vect"
   ]
  },
  {
   "cell_type": "code",
   "execution_count": 45,
   "id": "1d1e989d",
   "metadata": {},
   "outputs": [
    {
     "name": "stdout",
     "output_type": "stream",
     "text": [
      "Type in a sentence: an amazing and clean game\n"
     ]
    }
   ],
   "source": [
    "sentence = input('Type in a sentence: ')"
   ]
  },
  {
   "cell_type": "code",
   "execution_count": 46,
   "id": "689fc291",
   "metadata": {},
   "outputs": [
    {
     "data": {
      "text/plain": [
       "['an', 'amazing', 'and', 'clean', 'game']"
      ]
     },
     "execution_count": 46,
     "metadata": {},
     "output_type": "execute_result"
    }
   ],
   "source": [
    "sent = sentence.split()\n",
    "sent"
   ]
  },
  {
   "cell_type": "code",
   "execution_count": 47,
   "id": "3f394869",
   "metadata": {},
   "outputs": [
    {
     "data": {
      "text/plain": [
       "['clean', 'game']"
      ]
     },
     "execution_count": 47,
     "metadata": {},
     "output_type": "execute_result"
    }
   ],
   "source": [
    "arr_sent = []\n",
    "for pos in sent:\n",
    "    if(pos in arr_colv):\n",
    "        arr_sent.append(pos)\n",
    "arr_sent"
   ]
  },
  {
   "cell_type": "code",
   "execution_count": 48,
   "id": "c3e6fb11",
   "metadata": {},
   "outputs": [
    {
     "data": {
      "text/plain": [
       "array(['Sports', 'Not sports '], dtype=object)"
      ]
     },
     "execution_count": 48,
     "metadata": {},
     "output_type": "execute_result"
    }
   ],
   "source": [
    "unique_vals"
   ]
  },
  {
   "cell_type": "code",
   "execution_count": 49,
   "id": "6208e66c",
   "metadata": {},
   "outputs": [],
   "source": [
    "dic_pred = {\n",
    "    \n",
    "}"
   ]
  },
  {
   "cell_type": "code",
   "execution_count": 50,
   "id": "8211655b",
   "metadata": {},
   "outputs": [
    {
     "data": {
      "text/plain": [
       "{'Sports': 0.20661157024793386, 'Not sports ': 0.04938271604938271}"
      ]
     },
     "execution_count": 50,
     "metadata": {},
     "output_type": "execute_result"
    }
   ],
   "source": [
    "for val in unique_vals:\n",
    "    ans = 1\n",
    "    for pos in arr_sent:\n",
    "        ans*=prop_dict[pos][val]\n",
    "    dic_pred[val]=ans\n",
    "dic_pred"
   ]
  },
  {
   "cell_type": "code",
   "execution_count": 51,
   "id": "f10be226",
   "metadata": {},
   "outputs": [],
   "source": [
    "result=''\n",
    "maxim = 0\n",
    "store = ''\n",
    "for val in unique_vals:\n",
    "    if(dic_pred[val]>maxim):\n",
    "        maxim = dic_pred[val]\n",
    "        store = val"
   ]
  },
  {
   "cell_type": "code",
   "execution_count": 52,
   "id": "b34de91d",
   "metadata": {},
   "outputs": [
    {
     "name": "stdout",
     "output_type": "stream",
     "text": [
      "an amazing and clean game is about: Sports\n"
     ]
    }
   ],
   "source": [
    "print(sentence+' is about: '+store)"
   ]
  }
 ],
 "metadata": {
  "kernelspec": {
   "display_name": "Python 3",
   "language": "python",
   "name": "python3"
  },
  "language_info": {
   "codemirror_mode": {
    "name": "ipython",
    "version": 3
   },
   "file_extension": ".py",
   "mimetype": "text/x-python",
   "name": "python",
   "nbconvert_exporter": "python",
   "pygments_lexer": "ipython3",
   "version": "3.8.8"
  }
 },
 "nbformat": 4,
 "nbformat_minor": 5
}
