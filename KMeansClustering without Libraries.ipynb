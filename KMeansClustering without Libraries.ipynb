{
 "cells": [
  {
   "cell_type": "code",
   "execution_count": 1,
   "id": "558aa7a1",
   "metadata": {},
   "outputs": [],
   "source": [
    "import pandas as pd"
   ]
  },
  {
   "cell_type": "code",
   "execution_count": 2,
   "id": "d3fd079c",
   "metadata": {},
   "outputs": [],
   "source": [
    "from sklearn.preprocessing import StandardScaler"
   ]
  },
  {
   "cell_type": "code",
   "execution_count": 3,
   "id": "5f5a6e0d",
   "metadata": {},
   "outputs": [],
   "source": [
    "scaler = StandardScaler()"
   ]
  },
  {
   "cell_type": "code",
   "execution_count": 4,
   "id": "d8bfff73",
   "metadata": {},
   "outputs": [],
   "source": [
    "df = pd.read_excel('Clusters.xlsx')"
   ]
  },
  {
   "cell_type": "code",
   "execution_count": 5,
   "id": "20fffac1",
   "metadata": {},
   "outputs": [
    {
     "data": {
      "text/html": [
       "<div>\n",
       "<style scoped>\n",
       "    .dataframe tbody tr th:only-of-type {\n",
       "        vertical-align: middle;\n",
       "    }\n",
       "\n",
       "    .dataframe tbody tr th {\n",
       "        vertical-align: top;\n",
       "    }\n",
       "\n",
       "    .dataframe thead th {\n",
       "        text-align: right;\n",
       "    }\n",
       "</style>\n",
       "<table border=\"1\" class=\"dataframe\">\n",
       "  <thead>\n",
       "    <tr style=\"text-align: right;\">\n",
       "      <th></th>\n",
       "      <th>X1</th>\n",
       "      <th>X2</th>\n",
       "    </tr>\n",
       "  </thead>\n",
       "  <tbody>\n",
       "    <tr>\n",
       "      <th>0</th>\n",
       "      <td>1</td>\n",
       "      <td>3</td>\n",
       "    </tr>\n",
       "    <tr>\n",
       "      <th>1</th>\n",
       "      <td>2</td>\n",
       "      <td>6</td>\n",
       "    </tr>\n",
       "    <tr>\n",
       "      <th>2</th>\n",
       "      <td>5</td>\n",
       "      <td>8</td>\n",
       "    </tr>\n",
       "    <tr>\n",
       "      <th>3</th>\n",
       "      <td>4</td>\n",
       "      <td>9</td>\n",
       "    </tr>\n",
       "  </tbody>\n",
       "</table>\n",
       "</div>"
      ],
      "text/plain": [
       "   X1  X2\n",
       "0   1   3\n",
       "1   2   6\n",
       "2   5   8\n",
       "3   4   9"
      ]
     },
     "execution_count": 5,
     "metadata": {},
     "output_type": "execute_result"
    }
   ],
   "source": [
    "df"
   ]
  },
  {
   "cell_type": "code",
   "execution_count": 6,
   "id": "572d5a9e",
   "metadata": {},
   "outputs": [
    {
     "name": "stdout",
     "output_type": "stream",
     "text": [
      "Type in how many clusters you want: 2\n"
     ]
    }
   ],
   "source": [
    "k = int(input(\"Type in how many clusters you want: \"))"
   ]
  },
  {
   "cell_type": "code",
   "execution_count": 7,
   "id": "b5260c8b",
   "metadata": {},
   "outputs": [],
   "source": [
    "import random"
   ]
  },
  {
   "cell_type": "code",
   "execution_count": 8,
   "id": "89eaf456",
   "metadata": {},
   "outputs": [],
   "source": [
    "arr_points = []"
   ]
  },
  {
   "cell_type": "code",
   "execution_count": 9,
   "id": "95c57ba3",
   "metadata": {},
   "outputs": [],
   "source": [
    "pos_copy=0\n",
    "while(pos_copy!=k):\n",
    "    a  = random.randint(0,df.shape[0]-1)\n",
    "    if(a not in arr_points):\n",
    "        arr_points.append(a)\n",
    "    else:\n",
    "        pos_copy-=1\n",
    "    pos_copy+=1"
   ]
  },
  {
   "cell_type": "code",
   "execution_count": 10,
   "id": "551769ae",
   "metadata": {},
   "outputs": [
    {
     "data": {
      "text/plain": [
       "[1, 2]"
      ]
     },
     "execution_count": 10,
     "metadata": {},
     "output_type": "execute_result"
    }
   ],
   "source": [
    "arr_points"
   ]
  },
  {
   "cell_type": "code",
   "execution_count": 11,
   "id": "6f243785",
   "metadata": {},
   "outputs": [],
   "source": [
    "arr_values = []"
   ]
  },
  {
   "cell_type": "code",
   "execution_count": 12,
   "id": "9231e799",
   "metadata": {},
   "outputs": [],
   "source": [
    "for num in arr_points:\n",
    "    arr_values.append(df.loc[num].values)"
   ]
  },
  {
   "cell_type": "code",
   "execution_count": 13,
   "id": "9579f69f",
   "metadata": {},
   "outputs": [
    {
     "data": {
      "text/plain": [
       "[array([2, 6]), array([5, 8])]"
      ]
     },
     "execution_count": 13,
     "metadata": {},
     "output_type": "execute_result"
    }
   ],
   "source": [
    "arr_values"
   ]
  },
  {
   "cell_type": "code",
   "execution_count": 14,
   "id": "ab87e7a5",
   "metadata": {},
   "outputs": [],
   "source": [
    "import numpy as np"
   ]
  },
  {
   "cell_type": "code",
   "execution_count": 15,
   "id": "7a63c7b0",
   "metadata": {},
   "outputs": [
    {
     "name": "stdout",
     "output_type": "stream",
     "text": [
      "1.7320508075688772\n"
     ]
    }
   ],
   "source": [
    "point_a = np.array((0,0,0))\n",
    "point_b = np.array((1,1,1))\n",
    "\n",
    "distance = np.linalg.norm(point_a - point_b)\n",
    "print(distance)"
   ]
  },
  {
   "cell_type": "code",
   "execution_count": 16,
   "id": "7e452b99",
   "metadata": {},
   "outputs": [],
   "source": [
    "distan_store = 0"
   ]
  },
  {
   "cell_type": "code",
   "execution_count": 17,
   "id": "0d6c0d60",
   "metadata": {},
   "outputs": [],
   "source": [
    "point_store = []"
   ]
  },
  {
   "cell_type": "code",
   "execution_count": 18,
   "id": "58e532d2",
   "metadata": {},
   "outputs": [],
   "source": [
    "diction={}"
   ]
  },
  {
   "cell_type": "code",
   "execution_count": 19,
   "id": "1c29055d",
   "metadata": {},
   "outputs": [],
   "source": [
    "arr_str_val=[]"
   ]
  },
  {
   "cell_type": "code",
   "execution_count": 20,
   "id": "3e04ca92",
   "metadata": {},
   "outputs": [],
   "source": [
    "for pos in range(0,len(arr_values)):\n",
    "    str_val=''\n",
    "    for num in range(0,len(arr_values[pos])):\n",
    "        if(num!=len(arr_values[pos])-1):\n",
    "            str_val+=str(arr_values[pos][num])+','\n",
    "        else:\n",
    "            str_val+=str(arr_values[pos][num])\n",
    "    diction[str_val]= []\n",
    "    arr_str_val.append(str_val)"
   ]
  },
  {
   "cell_type": "code",
   "execution_count": 21,
   "id": "e6d77faa",
   "metadata": {},
   "outputs": [
    {
     "data": {
      "text/plain": [
       "['2,6', '5,8']"
      ]
     },
     "execution_count": 21,
     "metadata": {},
     "output_type": "execute_result"
    }
   ],
   "source": [
    "arr_str_val"
   ]
  },
  {
   "cell_type": "code",
   "execution_count": 22,
   "id": "3acfe513",
   "metadata": {},
   "outputs": [
    {
     "data": {
      "text/plain": [
       "{'2,6': [], '5,8': []}"
      ]
     },
     "execution_count": 22,
     "metadata": {},
     "output_type": "execute_result"
    }
   ],
   "source": [
    "diction"
   ]
  },
  {
   "cell_type": "code",
   "execution_count": 23,
   "id": "22612259",
   "metadata": {},
   "outputs": [],
   "source": [
    "def change(arr):\n",
    "    str_val1=''\n",
    "    for num in range(0,len(arr)):\n",
    "        if(num!=len(arr)-1):\n",
    "            str_val1+=str(arr[num])+','\n",
    "        else:\n",
    "            str_val1+=str(arr[num])\n",
    "    return str_val1"
   ]
  },
  {
   "cell_type": "code",
   "execution_count": 24,
   "id": "95ff0c84",
   "metadata": {},
   "outputs": [
    {
     "data": {
      "text/plain": [
       "['2', '6']"
      ]
     },
     "execution_count": 24,
     "metadata": {},
     "output_type": "execute_result"
    }
   ],
   "source": [
    "string = '2,6'\n",
    "a = string.split(',')\n",
    "a"
   ]
  },
  {
   "cell_type": "code",
   "execution_count": 25,
   "id": "e1c9420c",
   "metadata": {},
   "outputs": [],
   "source": [
    "def unchange(string):\n",
    "    arr=[]\n",
    "    ans = string.split(',')\n",
    "    for pos in range(len(ans)):\n",
    "        arr.append(int(ans[pos]))\n",
    "    return arr"
   ]
  },
  {
   "cell_type": "code",
   "execution_count": 26,
   "id": "d369cbc5",
   "metadata": {},
   "outputs": [
    {
     "data": {
      "text/plain": [
       "[array([2, 6]), array([5, 8])]"
      ]
     },
     "execution_count": 26,
     "metadata": {},
     "output_type": "execute_result"
    }
   ],
   "source": [
    "arr_values"
   ]
  },
  {
   "cell_type": "code",
   "execution_count": 27,
   "id": "5e2df87c",
   "metadata": {},
   "outputs": [
    {
     "name": "stdout",
     "output_type": "stream",
     "text": [
      "inf\n",
      "3.1622776601683795\n",
      "3.1622776601683795\n",
      "6.4031242374328485\n",
      "3.1622776601683795\n",
      "inf\n",
      "0.0\n",
      "0.0\n",
      "3.605551275463989\n",
      "0.0\n",
      "inf\n",
      "3.605551275463989\n",
      "3.605551275463989\n",
      "0.0\n",
      "0.0\n",
      "inf\n",
      "3.605551275463989\n",
      "3.605551275463989\n",
      "1.4142135623730951\n",
      "1.4142135623730951\n"
     ]
    }
   ],
   "source": [
    "for pos in range(0,df.shape[0]):\n",
    "    distan_store=0\n",
    "    arr = df.iloc[pos].values\n",
    "    distan_store=np.Infinity\n",
    "    print(distan_store)\n",
    "    point_store=arr\n",
    "    point_num=[]\n",
    "    for num in arr_values:\n",
    "        distance = np.linalg.norm(num - arr)\n",
    "        print(distance)\n",
    "        if(distance<distan_store):\n",
    "            distan_store = distance\n",
    "            point_store=arr\n",
    "            point_num = num\n",
    "        print(distan_store)\n",
    "    diction[change(point_num)].append(point_store)"
   ]
  },
  {
   "cell_type": "code",
   "execution_count": 28,
   "id": "43feb4ec",
   "metadata": {},
   "outputs": [
    {
     "data": {
      "text/plain": [
       "{'2,6': [array([1, 3]), array([2, 6])], '5,8': [array([5, 8]), array([4, 9])]}"
      ]
     },
     "execution_count": 28,
     "metadata": {},
     "output_type": "execute_result"
    }
   ],
   "source": [
    "diction"
   ]
  },
  {
   "cell_type": "code",
   "execution_count": 29,
   "id": "577b01f5",
   "metadata": {},
   "outputs": [],
   "source": [
    "ans=[]\n",
    "ans_total=[]\n",
    "for pos in diction:\n",
    "    ans_total=[]\n",
    "    for val in range(0,len(diction[pos][0])):\n",
    "        total=0\n",
    "        for num in diction[pos]:\n",
    "            total+=num[val]\n",
    "        total/=len(diction[pos])\n",
    "        ans_total.append(total)\n",
    "    ans.append(ans_total)"
   ]
  },
  {
   "cell_type": "code",
   "execution_count": 30,
   "id": "3fde9cfe",
   "metadata": {},
   "outputs": [
    {
     "data": {
      "text/plain": [
       "[[1.5, 4.5], [4.5, 8.5]]"
      ]
     },
     "execution_count": 30,
     "metadata": {},
     "output_type": "execute_result"
    }
   ],
   "source": [
    "ans"
   ]
  },
  {
   "cell_type": "code",
   "execution_count": 31,
   "id": "b863006b",
   "metadata": {},
   "outputs": [
    {
     "name": "stdout",
     "output_type": "stream",
     "text": [
      "1.5,4.5\n"
     ]
    }
   ],
   "source": [
    "print(change(ans[0]))"
   ]
  },
  {
   "cell_type": "code",
   "execution_count": 32,
   "id": "50065bce",
   "metadata": {},
   "outputs": [],
   "source": [
    "diction1 = {}"
   ]
  },
  {
   "cell_type": "code",
   "execution_count": 33,
   "id": "88f90d03",
   "metadata": {},
   "outputs": [],
   "source": [
    "for pos in ans:\n",
    "    diction1[change(pos)] = []"
   ]
  },
  {
   "cell_type": "code",
   "execution_count": 34,
   "id": "6746d0cd",
   "metadata": {},
   "outputs": [
    {
     "data": {
      "text/plain": [
       "{'1.5,4.5': [], '4.5,8.5': []}"
      ]
     },
     "execution_count": 34,
     "metadata": {},
     "output_type": "execute_result"
    }
   ],
   "source": [
    "diction1"
   ]
  },
  {
   "cell_type": "code",
   "execution_count": 35,
   "id": "2e5488e8",
   "metadata": {},
   "outputs": [
    {
     "name": "stdout",
     "output_type": "stream",
     "text": [
      "inf\n",
      "1.5811388300841898\n",
      "1.5811388300841898\n",
      "6.519202405202649\n",
      "1.5811388300841898\n",
      "inf\n",
      "1.5811388300841898\n",
      "1.5811388300841898\n",
      "3.5355339059327378\n",
      "1.5811388300841898\n",
      "inf\n",
      "4.949747468305833\n",
      "4.949747468305833\n",
      "0.7071067811865476\n",
      "0.7071067811865476\n",
      "inf\n",
      "5.1478150704935\n",
      "5.1478150704935\n",
      "0.7071067811865476\n",
      "0.7071067811865476\n"
     ]
    }
   ],
   "source": [
    "for pos in range(0,df.shape[0]):\n",
    "    distan_store=0\n",
    "    arr = df.iloc[pos].values\n",
    "    distan_store=np.Infinity\n",
    "    print(distan_store)\n",
    "    point_store=arr\n",
    "    point_num=[]\n",
    "    for num in ans:\n",
    "        distance = np.linalg.norm(num - arr)\n",
    "        print(distance)\n",
    "        if(distance<distan_store):\n",
    "            distan_store = distance\n",
    "            point_store=arr\n",
    "            point_num = num\n",
    "        print(distan_store)\n",
    "    diction1[change(point_num)].append(point_store)"
   ]
  },
  {
   "cell_type": "code",
   "execution_count": 36,
   "id": "400f075d",
   "metadata": {},
   "outputs": [
    {
     "data": {
      "text/plain": [
       "{'1.5,4.5': [array([1, 3]), array([2, 6])],\n",
       " '4.5,8.5': [array([5, 8]), array([4, 9])]}"
      ]
     },
     "execution_count": 36,
     "metadata": {},
     "output_type": "execute_result"
    }
   ],
   "source": [
    "diction1"
   ]
  },
  {
   "cell_type": "code",
   "execution_count": 37,
   "id": "345787d7",
   "metadata": {},
   "outputs": [
    {
     "name": "stdout",
     "output_type": "stream",
     "text": [
      "1.5,4.5\n"
     ]
    }
   ],
   "source": [
    "print(list(diction1.keys())[0])"
   ]
  },
  {
   "cell_type": "code",
   "execution_count": 38,
   "id": "7ff615a9",
   "metadata": {},
   "outputs": [],
   "source": [
    "def equaldict(dict1, dict2):\n",
    "    ans1 = list(dict1.keys())\n",
    "    ans2 = list(dict2.keys())\n",
    "    for pos in range(0,len(ans1)):\n",
    "        for num in range(0,len(dict1[ans1[pos]])):\n",
    "            for val in range(0,len(dict1[ans1[pos]][num])):\n",
    "                if(dict1[ans1[pos]][num][val]!=dict2[ans2[pos]][num][val]):\n",
    "                    return False\n",
    "    return True"
   ]
  },
  {
   "cell_type": "code",
   "execution_count": 39,
   "id": "f92eb2a1",
   "metadata": {},
   "outputs": [
    {
     "data": {
      "text/plain": [
       "True"
      ]
     },
     "execution_count": 39,
     "metadata": {},
     "output_type": "execute_result"
    }
   ],
   "source": [
    "equaldict(diction,diction1)"
   ]
  },
  {
   "cell_type": "code",
   "execution_count": 40,
   "id": "3ef10df9",
   "metadata": {},
   "outputs": [],
   "source": [
    "while equaldict(diction,diction1) == False:\n",
    "    diction=diction1\n",
    "    diction1={}\n",
    "    ans=[]\n",
    "    ans_total=[]\n",
    "    for pos in diction:\n",
    "        ans_total=[]\n",
    "        for val in range(0,len(diction[pos][0])):\n",
    "            total=0\n",
    "            for num in diction[pos]:\n",
    "                total+=num[val]\n",
    "            total/=len(diction[pos])\n",
    "            ans_total.append(total)\n",
    "        ans.append(ans_total)\n",
    "    for pos in ans:\n",
    "        diction1[change(pos)] = []\n",
    "    for pos in range(0,df.shape[0]):\n",
    "        distan_store=0\n",
    "        arr = df.iloc[pos].values\n",
    "        distan_store=np.Infinity\n",
    "        point_store=arr\n",
    "        point_num=[]\n",
    "        for num in ans:\n",
    "            distance = np.linalg.norm(num - arr)\n",
    "            if(distance<distan_store):\n",
    "                distan_store = distance\n",
    "                point_store=arr\n",
    "                point_num = num\n",
    "        diction1[change(point_num)].append(point_store)"
   ]
  },
  {
   "cell_type": "code",
   "execution_count": 41,
   "id": "f2d29474",
   "metadata": {},
   "outputs": [
    {
     "data": {
      "text/plain": [
       "{'2,6': [array([1, 3]), array([2, 6])], '5,8': [array([5, 8]), array([4, 9])]}"
      ]
     },
     "execution_count": 41,
     "metadata": {},
     "output_type": "execute_result"
    }
   ],
   "source": [
    "diction"
   ]
  },
  {
   "cell_type": "code",
   "execution_count": 42,
   "id": "ccf80426",
   "metadata": {},
   "outputs": [
    {
     "data": {
      "text/plain": [
       "{'1.5,4.5': [array([1, 3]), array([2, 6])],\n",
       " '4.5,8.5': [array([5, 8]), array([4, 9])]}"
      ]
     },
     "execution_count": 42,
     "metadata": {},
     "output_type": "execute_result"
    }
   ],
   "source": [
    "diction1"
   ]
  }
 ],
 "metadata": {
  "kernelspec": {
   "display_name": "Python 3 (ipykernel)",
   "language": "python",
   "name": "python3"
  },
  "language_info": {
   "codemirror_mode": {
    "name": "ipython",
    "version": 3
   },
   "file_extension": ".py",
   "mimetype": "text/x-python",
   "name": "python",
   "nbconvert_exporter": "python",
   "pygments_lexer": "ipython3",
   "version": "3.8.2"
  }
 },
 "nbformat": 4,
 "nbformat_minor": 5
}
