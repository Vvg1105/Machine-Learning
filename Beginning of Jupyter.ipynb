{
 "cells": [
  {
   "cell_type": "markdown",
   "id": "3adcff83",
   "metadata": {},
   "source": [
    "# Move a file or folder locally"
   ]
  },
  {
   "cell_type": "markdown",
   "id": "abc9747a",
   "metadata": {},
   "source": [
    "1) Open Terminal \n",
    "2) Use the line  mv ~(followed by file location and then name) ~(Desired location followed by name)\n",
    "3) Example: mv ~/Desktop/music.csv ~/Desktop/Machine\\ Learning/music.csv"
   ]
  },
  {
   "cell_type": "markdown",
   "id": "0ec8aa4c",
   "metadata": {},
   "source": [
    "# Shortcuts in Jupyter "
   ]
  },
  {
   "attachments": {
    "image-2.png": {
     "image/png": "[encoded data removed]"
    }
   },
   "cell_type": "markdown",
   "id": "4b4cce0e",
   "metadata": {},
   "source": [
    "Shift 6 Enter - Run cell code![image-2.png](attachment:image-2.png)"
   ]
  },
  {
   "cell_type": "markdown",
   "id": "51605b7a",
   "metadata": {},
   "source": [
    "Homework - Write a Jupyter notebook in which the first cell is going to define a function which will return the maximum value of a list and in another cell, make another function which returns the minimum value of the list. In the 3rd cell you will take a list from the user using the functions created above, find the maximum and minimum in the user's list"
   ]
  },
  {
   "cell_type": "code",
   "execution_count": 1,
   "id": "7fbf5817",
   "metadata": {},
   "outputs": [],
   "source": [
    "def maximum(in_arr):\n",
    "    max=in_arr[0]\n",
    "    for pos in range(len(in_arr)):\n",
    "        if(in_arr[pos]>max):\n",
    "            max=in_arr[pos]\n",
    "    return max"
   ]
  },
  {
   "cell_type": "code",
   "execution_count": 2,
   "id": "10724c2f",
   "metadata": {},
   "outputs": [],
   "source": [
    "def minimum(in_arr):\n",
    "    min=in_arr[0]\n",
    "    for pos in range(len(in_arr)):\n",
    "        if(in_arr[pos]<min):\n",
    "            min=in_arr[pos]\n",
    "    return min"
   ]
  },
  {
   "cell_type": "code",
   "execution_count": 2,
   "id": "18189903",
   "metadata": {
    "scrolled": true
   },
   "outputs": [
    {
     "data": {
      "text/plain": [
       "1.0"
      ]
     },
     "execution_count": 2,
     "metadata": {},
     "output_type": "execute_result"
    }
   ],
   "source": [
    "import pandas as pd\n",
    "from sklearn.tree import DecisionTreeClassifier\n",
    "from sklearn.model_selection import train_test_split\n",
    "from sklearn.metrics import accuracy_score\n",
    "\n",
    "music_data = pd.read_csv('music.csv')\n",
    "X=music_data.drop(columns=['genre'])\n",
    "y=music_data['genre']\n",
    "\n",
    "\n",
    "\n",
    "model = DecisionTreeClassifier()\n",
    "model.fit(X_train,y_train)\n",
    "predictions = model.predict(X_test)\n",
    "\n",
    "score = accuracy_score(y_test,predictions)\n",
    "score"
   ]
  },
  {
   "cell_type": "code",
   "execution_count": 3,
   "id": "1c7e895d",
   "metadata": {},
   "outputs": [
    {
     "name": "stdout",
     "output_type": "stream",
     "text": [
      "How many elements: 4\n",
      "Type in element: 1\n",
      "Type in element: 2\n",
      "Type in element: 3\n",
      "Type in element: 8\n",
      "8 1\n"
     ]
    }
   ],
   "source": [
    "list_element = int(input(\"How many elements: \"))\n",
    "arr=[]\n",
    "for pos in range(list_element):\n",
    "    arr.append(int(input(\"Type in element: \")))\n",
    "print(maximum(arr),minimum(arr))"
   ]
  },
  {
   "cell_type": "markdown",
   "id": "d37b10ed",
   "metadata": {},
   "source": [
    "# .shape - gives you rows and columns in a tuple"
   ]
  },
  {
   "cell_type": "code",
   "execution_count": 2,
   "id": "98d40d96",
   "metadata": {
    "scrolled": true
   },
   "outputs": [
    {
     "data": {
      "text/plain": [
       "(16598, 11)"
      ]
     },
     "execution_count": 2,
     "metadata": {},
     "output_type": "execute_result"
    }
   ],
   "source": [
    "import pandas as pd\n",
    "reading = pd.read_csv('vgsales.csv')\n",
    "reading.shape"
   ]
  },
  {
   "cell_type": "markdown",
   "id": "c384c644",
   "metadata": {},
   "source": [
    "# .at - allows you to access a specific element"
   ]
  },
  {
   "cell_type": "markdown",
   "id": "7fc78135",
   "metadata": {},
   "source": [
    ".at is a data member of the class DataFrame.\n",
    "To use it you must specify the speicifc row index and column name.\n",
    "Example:\n",
    "    'Age'    'Name'\n",
    "0    15       Vansh\n",
    "1    9        Bob\n",
    "I want to access Bob so I will do object_of_class.at[1,'Name'] -> Notice the []"
   ]
  },
  {
   "cell_type": "code",
   "execution_count": 13,
   "id": "883851a7",
   "metadata": {},
   "outputs": [
    {
     "data": {
      "text/plain": [
       "'Call of Duty: Finest Hour'"
      ]
     },
     "execution_count": 13,
     "metadata": {},
     "output_type": "execute_result"
    }
   ],
   "source": [
    "reading.at[500,'Name']"
   ]
  },
  {
   "cell_type": "markdown",
   "id": "574ef774",
   "metadata": {},
   "source": [
    "# .columns - outputs the names titles of the columns"
   ]
  },
  {
   "cell_type": "code",
   "execution_count": 21,
   "id": "f6b3460b",
   "metadata": {},
   "outputs": [
    {
     "name": "stdout",
     "output_type": "stream",
     "text": [
      "Rank\n",
      "Name\n",
      "Platform\n",
      "Year\n",
      "Genre\n",
      "Publisher\n",
      "NA_Sales\n",
      "EU_Sales\n",
      "JP_Sales\n",
      "Other_Sales\n",
      "Global_Sales\n"
     ]
    },
    {
     "data": {
      "text/plain": [
       "Index(['Rank', 'Name', 'Platform', 'Year', 'Genre', 'Publisher', 'NA_Sales',\n",
       "       'EU_Sales', 'JP_Sales', 'Other_Sales', 'Global_Sales'],\n",
       "      dtype='object')"
      ]
     },
     "execution_count": 21,
     "metadata": {},
     "output_type": "execute_result"
    }
   ],
   "source": [
    "for pos in range (0,reading.shape[1]):\n",
    "    print(reading.columns[pos])\n",
    "reading.columns"
   ]
  },
  {
   "cell_type": "markdown",
   "id": "650b9389",
   "metadata": {},
   "source": [
    "# .loc - allows you to access specific values belonging to a certain group of rows and columns"
   ]
  },
  {
   "cell_type": "code",
   "execution_count": 26,
   "id": "299805c7",
   "metadata": {},
   "outputs": [
    {
     "data": {
      "text/plain": [
       "0                                              Wii Sports\n",
       "1                                       Super Mario Bros.\n",
       "2                                          Mario Kart Wii\n",
       "3                                       Wii Sports Resort\n",
       "4                                Pokemon Red/Pokemon Blue\n",
       "                               ...                       \n",
       "16593                  Woody Woodpecker in Crazy Castle 5\n",
       "16594                       Men in Black II: Alien Escape\n",
       "16595    SCORE International Baja 1000: The Official Game\n",
       "16596                                          Know How 2\n",
       "16597                                    Spirits & Spells\n",
       "Name: Name, Length: 16598, dtype: object"
      ]
     },
     "execution_count": 26,
     "metadata": {},
     "output_type": "execute_result"
    }
   ],
   "source": [
    "reading.loc[:,'Name']"
   ]
  },
  {
   "cell_type": "markdown",
   "id": "9f02b292",
   "metadata": {},
   "source": [
    "# Another way to access specific values belonging to a specific column"
   ]
  },
  {
   "cell_type": "code",
   "execution_count": 27,
   "id": "c97869fd",
   "metadata": {},
   "outputs": [
    {
     "data": {
      "text/plain": [
       "0                                              Wii Sports\n",
       "1                                       Super Mario Bros.\n",
       "2                                          Mario Kart Wii\n",
       "3                                       Wii Sports Resort\n",
       "4                                Pokemon Red/Pokemon Blue\n",
       "                               ...                       \n",
       "16593                  Woody Woodpecker in Crazy Castle 5\n",
       "16594                       Men in Black II: Alien Escape\n",
       "16595    SCORE International Baja 1000: The Official Game\n",
       "16596                                          Know How 2\n",
       "16597                                    Spirits & Spells\n",
       "Name: Name, Length: 16598, dtype: object"
      ]
     },
     "execution_count": 27,
     "metadata": {},
     "output_type": "execute_result"
    }
   ],
   "source": [
    "reading['Name']"
   ]
  },
  {
   "cell_type": "code",
   "execution_count": 29,
   "id": "3b83e471",
   "metadata": {},
   "outputs": [
    {
     "data": {
      "text/plain": [
       "Rank                     1\n",
       "Name            Wii Sports\n",
       "Platform               Wii\n",
       "Year                2006.0\n",
       "Genre               Sports\n",
       "Publisher         Nintendo\n",
       "NA_Sales             41.49\n",
       "EU_Sales             29.02\n",
       "JP_Sales              3.77\n",
       "Other_Sales           8.46\n",
       "Global_Sales         82.74\n",
       "Name: 0, dtype: object"
      ]
     },
     "execution_count": 29,
     "metadata": {},
     "output_type": "execute_result"
    }
   ],
   "source": [
    "reading.loc[0,:]"
   ]
  },
  {
   "cell_type": "markdown",
   "id": "fed39502",
   "metadata": {},
   "source": [
    "Difference between tuple and list:\n",
    "1) How do you add values to a tuple?\n",
    "2) How do you remove values from a tuple?\n",
    "3) How do you access values in a tuple?"
   ]
  },
  {
   "cell_type": "markdown",
   "id": "08752847",
   "metadata": {},
   "source": [
    "Difference between set and a list is that:\n",
    "Sets cannot contain duplicates"
   ]
  },
  {
   "cell_type": "code",
   "execution_count": 6,
   "id": "13e72015",
   "metadata": {},
   "outputs": [],
   "source": [
    "def remove_dups(inputstring):\n",
    "    return set(inputstring)"
   ]
  },
  {
   "cell_type": "markdown",
   "id": "277d4fdc",
   "metadata": {},
   "source": [
    "String Duplicates - Set(inbuilt function) to remove duplicates"
   ]
  }
 ],
 "metadata": {
  "kernelspec": {
   "display_name": "Python 3 (ipykernel)",
   "language": "python",
   "name": "python3"
  },
  "language_info": {
   "codemirror_mode": {
    "name": "ipython",
    "version": 3
   },
   "file_extension": ".py",
   "mimetype": "text/x-python",
   "name": "python",
   "nbconvert_exporter": "python",
   "pygments_lexer": "ipython3",
   "version": "3.8.2"
  }
 },
 "nbformat": 4,
 "nbformat_minor": 5
}
