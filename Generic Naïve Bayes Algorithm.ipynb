{
 "cells": [
  {
   "cell_type": "code",
   "execution_count": 2,
   "id": "9aa9ee7e",
   "metadata": {},
   "outputs": [],
   "source": [
    "import pandas as pd\n",
    "df = pd.read_excel (r'/Users/vanshgadhia/Desktop/Machine Learning/CarDataset.xlsx')"
   ]
  },
  {
   "cell_type": "code",
   "execution_count": 3,
   "id": "3341c276",
   "metadata": {
    "scrolled": false
   },
   "outputs": [
    {
     "data": {
      "text/html": [
       "<div>\n",
       "<style scoped>\n",
       "    .dataframe tbody tr th:only-of-type {\n",
       "        vertical-align: middle;\n",
       "    }\n",
       "\n",
       "    .dataframe tbody tr th {\n",
       "        vertical-align: top;\n",
       "    }\n",
       "\n",
       "    .dataframe thead th {\n",
       "        text-align: right;\n",
       "    }\n",
       "</style>\n",
       "<table border=\"1\" class=\"dataframe\">\n",
       "  <thead>\n",
       "    <tr style=\"text-align: right;\">\n",
       "      <th></th>\n",
       "      <th>Color</th>\n",
       "      <th>Type</th>\n",
       "      <th>Origin</th>\n",
       "      <th>Stolen?</th>\n",
       "    </tr>\n",
       "  </thead>\n",
       "  <tbody>\n",
       "    <tr>\n",
       "      <th>0</th>\n",
       "      <td>Red</td>\n",
       "      <td>Sports</td>\n",
       "      <td>Domestic</td>\n",
       "      <td>Yes</td>\n",
       "    </tr>\n",
       "    <tr>\n",
       "      <th>1</th>\n",
       "      <td>Red</td>\n",
       "      <td>Sports</td>\n",
       "      <td>Domestic</td>\n",
       "      <td>No</td>\n",
       "    </tr>\n",
       "    <tr>\n",
       "      <th>2</th>\n",
       "      <td>Red</td>\n",
       "      <td>Sports</td>\n",
       "      <td>Domestic</td>\n",
       "      <td>Yes</td>\n",
       "    </tr>\n",
       "    <tr>\n",
       "      <th>3</th>\n",
       "      <td>Yellow</td>\n",
       "      <td>Sports</td>\n",
       "      <td>Domestic</td>\n",
       "      <td>No</td>\n",
       "    </tr>\n",
       "    <tr>\n",
       "      <th>4</th>\n",
       "      <td>Yellow</td>\n",
       "      <td>Sports</td>\n",
       "      <td>Imported</td>\n",
       "      <td>Yes</td>\n",
       "    </tr>\n",
       "    <tr>\n",
       "      <th>5</th>\n",
       "      <td>Yellow</td>\n",
       "      <td>SUV</td>\n",
       "      <td>Imported</td>\n",
       "      <td>No</td>\n",
       "    </tr>\n",
       "    <tr>\n",
       "      <th>6</th>\n",
       "      <td>Yellow</td>\n",
       "      <td>SUV</td>\n",
       "      <td>Imported</td>\n",
       "      <td>Yes</td>\n",
       "    </tr>\n",
       "    <tr>\n",
       "      <th>7</th>\n",
       "      <td>Yellow</td>\n",
       "      <td>SUV</td>\n",
       "      <td>Domestic</td>\n",
       "      <td>No</td>\n",
       "    </tr>\n",
       "    <tr>\n",
       "      <th>8</th>\n",
       "      <td>Red</td>\n",
       "      <td>SUV</td>\n",
       "      <td>Imported</td>\n",
       "      <td>No</td>\n",
       "    </tr>\n",
       "    <tr>\n",
       "      <th>9</th>\n",
       "      <td>Red</td>\n",
       "      <td>Sports</td>\n",
       "      <td>Imported</td>\n",
       "      <td>Yes</td>\n",
       "    </tr>\n",
       "  </tbody>\n",
       "</table>\n",
       "</div>"
      ],
      "text/plain": [
       "    Color    Type    Origin Stolen?\n",
       "0     Red  Sports  Domestic     Yes\n",
       "1     Red  Sports  Domestic      No\n",
       "2     Red  Sports  Domestic     Yes\n",
       "3  Yellow  Sports  Domestic      No\n",
       "4  Yellow  Sports  Imported     Yes\n",
       "5  Yellow     SUV  Imported      No\n",
       "6  Yellow     SUV  Imported     Yes\n",
       "7  Yellow     SUV  Domestic      No\n",
       "8     Red     SUV  Imported      No\n",
       "9     Red  Sports  Imported     Yes"
      ]
     },
     "execution_count": 3,
     "metadata": {},
     "output_type": "execute_result"
    }
   ],
   "source": [
    "df"
   ]
  },
  {
   "cell_type": "code",
   "execution_count": 4,
   "id": "b9560dd0",
   "metadata": {},
   "outputs": [
    {
     "name": "stdout",
     "output_type": "stream",
     "text": [
      "Stolen?\n"
     ]
    }
   ],
   "source": [
    "y = df.columns[-1]\n",
    "print(y)"
   ]
  },
  {
   "cell_type": "code",
   "execution_count": 5,
   "id": "da55020b",
   "metadata": {},
   "outputs": [
    {
     "name": "stdout",
     "output_type": "stream",
     "text": [
      "{'Yes', 'No'}\n"
     ]
    }
   ],
   "source": [
    "arr_s1=[]\n",
    "for pos in range (0,df.shape[0]):\n",
    "    arr_s1.append(df[y][pos])\n",
    "arr_s = set(arr_s1)\n",
    "print(arr_s)"
   ]
  },
  {
   "cell_type": "code",
   "execution_count": 6,
   "id": "9f6771df",
   "metadata": {},
   "outputs": [
    {
     "name": "stdout",
     "output_type": "stream",
     "text": [
      "[5, 5]\n"
     ]
    }
   ],
   "source": [
    "freq=[]\n",
    "count1=0\n",
    "for pos in arr_s:\n",
    "    count1=0\n",
    "    for row in range(0,df.shape[0]):\n",
    "        if(df.at[row,y]==pos):\n",
    "            count1+=1\n",
    "    freq.append(count1)\n",
    "print(freq)"
   ]
  },
  {
   "cell_type": "code",
   "execution_count": 7,
   "id": "f7f8c7ea",
   "metadata": {},
   "outputs": [
    {
     "name": "stdout",
     "output_type": "stream",
     "text": [
      "{'Yes': 5, 'No': 5}\n"
     ]
    }
   ],
   "source": [
    "iterator = iter(arr_s)\n",
    "diction={\n",
    "}\n",
    "for pos in range(0,len(arr_s)):\n",
    "    a = next(iterator, None)\n",
    "    diction[a]=freq[pos]\n",
    "print(diction)"
   ]
  },
  {
   "cell_type": "code",
   "execution_count": 8,
   "id": "b9ed5016",
   "metadata": {},
   "outputs": [
    {
     "name": "stdout",
     "output_type": "stream",
     "text": [
      "Index(['Color', 'Type', 'Origin'], dtype='object')\n"
     ]
    }
   ],
   "source": [
    "arr_cols = df.columns[:len(df.columns)-1]\n",
    "print(arr_cols)"
   ]
  },
  {
   "cell_type": "code",
   "execution_count": 9,
   "id": "9539e1e8",
   "metadata": {},
   "outputs": [
    {
     "name": "stdout",
     "output_type": "stream",
     "text": [
      "Please type in the Color of the car: Red\n",
      "Please type in the Type of the car: SUV\n",
      "Please type in the Origin of the car: Domestic\n",
      "['Red', 'SUV', 'Domestic']\n"
     ]
    }
   ],
   "source": [
    "arr_in = []\n",
    "for pos in range(0,len(arr_cols)):\n",
    "    a = input(\"Please type in the \"+arr_cols[pos]+\" of the car: \")\n",
    "    arr_in.append(a)\n",
    "print(arr_in)"
   ]
  },
  {
   "cell_type": "code",
   "execution_count": 10,
   "id": "0b283d50",
   "metadata": {},
   "outputs": [
    {
     "name": "stdout",
     "output_type": "stream",
     "text": [
      "{'Yes': 5, 'No': 5, 'YES': 0.024, 'NO': 0.072}\n"
     ]
    }
   ],
   "source": [
    "total=1\n",
    "for pos in arr_s:\n",
    "    total=1\n",
    "    for column in range(0,len(arr_cols)):\n",
    "        count=0\n",
    "        for row in range(0,df.shape[0]):\n",
    "            if(df.at[row,y]==pos and df.at[row,arr_cols[column]]==arr_in[column]):\n",
    "                count+=1\n",
    "        total*=(count/(diction[pos]))\n",
    "    total*=(diction[pos]/df.shape[0])\n",
    "    diction[pos.upper()]=total\n",
    "print(diction)"
   ]
  },
  {
   "cell_type": "code",
   "execution_count": 11,
   "id": "ffb719dd",
   "metadata": {
    "scrolled": true
   },
   "outputs": [
    {
     "name": "stdout",
     "output_type": "stream",
     "text": [
      "No\n",
      "0.072\n"
     ]
    }
   ],
   "source": [
    "iterator = iter(arr_s)\n",
    "ans=-1\n",
    "store_pos=''\n",
    "for pos in range(0,len(arr_s)):\n",
    "    a = next(iterator, None)\n",
    "    var = a.upper()\n",
    "    num = diction[var]\n",
    "    if(num>ans):\n",
    "        store_pos=a\n",
    "        ans=num\n",
    "print(store_pos)\n",
    "print(ans)"
   ]
  },
  {
   "cell_type": "code",
   "execution_count": 12,
   "id": "ac64ad56",
   "metadata": {},
   "outputs": [],
   "source": [
    "total=1\n",
    "for pos in arr_s:\n",
    "    total=1\n",
    "    for column in range(0,len(arr_cols)):\n",
    "        count=0\n",
    "        for row in range(0,df.shape[0]):\n",
    "            if(df.at[row,y]==pos and df.at[row,arr_cols[column]]==arr_in[column]):\n",
    "                count+=1\n",
    "        total*=(count/(diction[pos]))\n",
    "    total*=(diction[pos]/df.shape[0])\n",
    "    diction[pos.upper()]=total"
   ]
  },
  {
   "cell_type": "code",
   "execution_count": 13,
   "id": "52f52e4a",
   "metadata": {},
   "outputs": [
    {
     "name": "stdout",
     "output_type": "stream",
     "text": [
      "[0, 1, 2, 3, 4, 5, 6, 7, 8, 9]\n"
     ]
    }
   ],
   "source": [
    "arr_rows = []\n",
    "for pos in range(0,df.shape[0]):\n",
    "    arr_rows.append(pos)\n",
    "print(arr_rows)"
   ]
  },
  {
   "cell_type": "code",
   "execution_count": 14,
   "id": "5c3d4073",
   "metadata": {},
   "outputs": [
    {
     "name": "stdout",
     "output_type": "stream",
     "text": [
      "7\n"
     ]
    }
   ],
   "source": [
    "data = len(arr_rows)/10\n",
    "data*=7\n",
    "data=int(data)\n",
    "print(data)"
   ]
  },
  {
   "cell_type": "code",
   "execution_count": 15,
   "id": "2deeef98",
   "metadata": {},
   "outputs": [],
   "source": [
    "import random"
   ]
  },
  {
   "cell_type": "code",
   "execution_count": 16,
   "id": "6aaf5091",
   "metadata": {},
   "outputs": [
    {
     "name": "stdout",
     "output_type": "stream",
     "text": [
      "[6, 5, 8, 7, 0, 4, 3]\n"
     ]
    }
   ],
   "source": [
    "arr_data = []\n",
    "for pos in range(0,data):\n",
    "    random_num = random.choice(arr_rows)\n",
    "    arr_data.append(random_num)\n",
    "    arr_rows.remove(random_num)\n",
    "print(arr_data)"
   ]
  },
  {
   "cell_type": "code",
   "execution_count": 17,
   "id": "a2529227",
   "metadata": {},
   "outputs": [],
   "source": [
    "no = 'No'\n",
    "yes = 'Yes'"
   ]
  },
  {
   "cell_type": "code",
   "execution_count": 18,
   "id": "666f78e9",
   "metadata": {},
   "outputs": [
    {
     "name": "stdout",
     "output_type": "stream",
     "text": [
      "{'Yes', 'No'}\n"
     ]
    }
   ],
   "source": [
    "arr_s1=[]\n",
    "for pos in arr_data:\n",
    "    arr_s1.append(df[y][pos])\n",
    "arr_s = set(arr_s1)\n",
    "print(arr_s)"
   ]
  },
  {
   "cell_type": "code",
   "execution_count": 19,
   "id": "e9922cfb",
   "metadata": {},
   "outputs": [],
   "source": [
    "no_mult= {\n",
    "    \n",
    "}"
   ]
  },
  {
   "cell_type": "code",
   "execution_count": 20,
   "id": "5e3208e1",
   "metadata": {},
   "outputs": [],
   "source": [
    "nested_diction = {\n",
    "    \n",
    "}"
   ]
  },
  {
   "cell_type": "code",
   "execution_count": 21,
   "id": "45ee9f86",
   "metadata": {},
   "outputs": [],
   "source": [
    "prop_dict={\n",
    "    \n",
    "}"
   ]
  },
  {
   "cell_type": "code",
   "execution_count": 23,
   "id": "f147c187",
   "metadata": {},
   "outputs": [
    {
     "name": "stdout",
     "output_type": "stream",
     "text": [
      "<set_iterator object at 0x7fd218027f40>\n",
      "<set_iterator object at 0x7fd2180278c0>\n",
      "<set_iterator object at 0x7fd218027f40>\n",
      "{'Color': ['Red', 'Yellow'], 'Type': ['Sports', 'SUV'], 'Origin': ['Imported', 'Domestic']}\n"
     ]
    }
   ],
   "source": [
    "for pos in arr_cols:\n",
    "    arr_dict=[]\n",
    "    no_mult[pos]={}\n",
    "    arr_se=[]\n",
    "    for row in arr_data:\n",
    "        arr_se.append(df[pos][row])\n",
    "    arr_set = set(arr_se)\n",
    "    iterator = iter(arr_set)\n",
    "    for copy in range(0,len(arr_set)):\n",
    "        a = next(iterator, None)\n",
    "        arr_dict.append(a)\n",
    "    no_mult[pos]=arr_dict\n",
    "print(no_mult)"
   ]
  },
  {
   "cell_type": "code",
   "execution_count": 34,
   "id": "ce8e8a99",
   "metadata": {},
   "outputs": [
    {
     "name": "stdout",
     "output_type": "stream",
     "text": [
      "{'Color': {'YellowYes': 0.25, 'RedYes': 0.75, 'YellowNo': 0.6666666666666666, 'RedNo': 0.3333333333333333}, 'Type': {'SUVYes': 0.0, 'SportsYes': 1.0, 'SUVNo': 0.3333333333333333, 'SportsNo': 0.6666666666666666}, 'Origin': {'DomesticYes': 0.5, 'ImportedYes': 0.5, 'DomesticNo': 0.6666666666666666, 'ImportedNo': 0.3333333333333333}}\n"
     ]
    }
   ],
   "source": [
    "for pos in arr_cols:\n",
    "    prop_dict[pos]={}\n",
    "    for copy in arr_s:\n",
    "        for val in range(0,len(no_mult[pos])):\n",
    "            frequency=0\n",
    "            freq_total=0\n",
    "            value = no_mult[pos][val]\n",
    "            for row in arr_data:\n",
    "                if(df.at[row,pos]==value and df.at[row,y]==copy):\n",
    "                    frequency+=1\n",
    "                if(df.at[row,y]==copy):\n",
    "                    freq_total+=1\n",
    "            prop_dict[pos][value+copy]=frequency/freq_total\n",
    "print(prop_dict)"
   ]
  },
  {
   "cell_type": "code",
   "execution_count": 23,
   "id": "ec42ca59",
   "metadata": {},
   "outputs": [
    {
     "name": "stdout",
     "output_type": "stream",
     "text": [
      "[6, 7, 8]\n"
     ]
    }
   ],
   "source": [
    "print(arr_rows)"
   ]
  },
  {
   "cell_type": "code",
   "execution_count": 24,
   "id": "59e62f52",
   "metadata": {},
   "outputs": [],
   "source": [
    "strow = 'Row'"
   ]
  },
  {
   "cell_type": "code",
   "execution_count": 25,
   "id": "2526a43f",
   "metadata": {},
   "outputs": [
    {
     "name": "stdout",
     "output_type": "stream",
     "text": [
      "{'Color': {'YellowYes': 0.25, 'RedYes': 0.75, 'YellowNo': 0.6666666666666666, 'RedNo': 0.3333333333333333}, 'Type': {'SUVYes': 0.0, 'SportsYes': 1.0, 'SUVNo': 0.3333333333333333, 'SportsNo': 0.6666666666666666}, 'Origin': {'DomesticYes': 0.5, 'ImportedYes': 0.5, 'DomesticNo': 0.6666666666666666, 'ImportedNo': 0.3333333333333333}}\n"
     ]
    }
   ],
   "source": [
    "print(prop_dict)"
   ]
  },
  {
   "cell_type": "code",
   "execution_count": 26,
   "id": "be559f3e",
   "metadata": {},
   "outputs": [],
   "source": [
    "new_dict={\n",
    "}"
   ]
  },
  {
   "cell_type": "code",
   "execution_count": 27,
   "id": "93d9db90",
   "metadata": {},
   "outputs": [],
   "source": [
    "dict_yes_no={\n",
    "\n",
    "}"
   ]
  },
  {
   "cell_type": "code",
   "execution_count": 28,
   "id": "59218f83",
   "metadata": {},
   "outputs": [
    {
     "name": "stdout",
     "output_type": "stream",
     "text": [
      "3\n"
     ]
    }
   ],
   "source": [
    "denom = len(arr_rows)\n",
    "print(denom)"
   ]
  },
  {
   "cell_type": "code",
   "execution_count": 35,
   "id": "11822f9f",
   "metadata": {},
   "outputs": [
    {
     "name": "stdout",
     "output_type": "stream",
     "text": [
      "{'Yes': 0.3333333333333333, 'No': 0.6666666666666666}\n"
     ]
    }
   ],
   "source": [
    "for copy in arr_s:\n",
    "    freq_copy=0\n",
    "    for row in arr_rows:\n",
    "        if(df.at[row,y]==copy):\n",
    "            freq_copy+=1\n",
    "    ans = freq_copy/denom\n",
    "    dict_yes_no[copy] = ans\n",
    "print(dict_yes_no)"
   ]
  },
  {
   "cell_type": "code",
   "execution_count": 30,
   "id": "b6539fde",
   "metadata": {},
   "outputs": [
    {
     "name": "stdout",
     "output_type": "stream",
     "text": [
      "{'Row6Yes': 0.0, 'Row6No': 0.04938271604938271, 'Row7Yes': 0.0, 'Row7No': 0.09876543209876543, 'Row8Yes': 0.0, 'Row8No': 0.024691358024691357}\n"
     ]
    }
   ],
   "source": [
    "for row in arr_rows:\n",
    "    arr_results=[]\n",
    "    for copy in arr_s:\n",
    "        total=1\n",
    "        for pos in arr_cols:\n",
    "            total*=prop_dict[pos][df.at[row,pos]+copy]\n",
    "        total*=dict_yes_no[copy]\n",
    "        new_dict[strow+str(row)+copy]=total\n",
    "print(new_dict)"
   ]
  },
  {
   "cell_type": "code",
   "execution_count": 31,
   "id": "2d647041",
   "metadata": {},
   "outputs": [
    {
     "name": "stdout",
     "output_type": "stream",
     "text": [
      "Outcome for Row 6: No\n",
      "Outcome for Row 7: No\n",
      "Outcome for Row 8: No\n"
     ]
    }
   ],
   "source": [
    "for row in arr_rows:\n",
    "    new=0\n",
    "    store_copy=''\n",
    "    for copy in arr_s:\n",
    "        if(new_dict[strow+str(row)+copy]>new):\n",
    "            new=new_dict[strow+str(row)+copy]\n",
    "            store_copy=copy\n",
    "    print(\"Outcome for \"+strow+\" \"+str(row)+\": \"+store_copy)"
   ]
  },
  {
   "cell_type": "code",
   "execution_count": 32,
   "id": "e2082806",
   "metadata": {},
   "outputs": [
    {
     "data": {
      "text/html": [
       "<div>\n",
       "<style scoped>\n",
       "    .dataframe tbody tr th:only-of-type {\n",
       "        vertical-align: middle;\n",
       "    }\n",
       "\n",
       "    .dataframe tbody tr th {\n",
       "        vertical-align: top;\n",
       "    }\n",
       "\n",
       "    .dataframe thead th {\n",
       "        text-align: right;\n",
       "    }\n",
       "</style>\n",
       "<table border=\"1\" class=\"dataframe\">\n",
       "  <thead>\n",
       "    <tr style=\"text-align: right;\">\n",
       "      <th></th>\n",
       "      <th>Color</th>\n",
       "      <th>Type</th>\n",
       "      <th>Origin</th>\n",
       "      <th>Stolen?</th>\n",
       "    </tr>\n",
       "  </thead>\n",
       "  <tbody>\n",
       "    <tr>\n",
       "      <th>0</th>\n",
       "      <td>Red</td>\n",
       "      <td>Sports</td>\n",
       "      <td>Domestic</td>\n",
       "      <td>Yes</td>\n",
       "    </tr>\n",
       "    <tr>\n",
       "      <th>1</th>\n",
       "      <td>Red</td>\n",
       "      <td>Sports</td>\n",
       "      <td>Domestic</td>\n",
       "      <td>No</td>\n",
       "    </tr>\n",
       "    <tr>\n",
       "      <th>2</th>\n",
       "      <td>Red</td>\n",
       "      <td>Sports</td>\n",
       "      <td>Domestic</td>\n",
       "      <td>Yes</td>\n",
       "    </tr>\n",
       "    <tr>\n",
       "      <th>3</th>\n",
       "      <td>Yellow</td>\n",
       "      <td>Sports</td>\n",
       "      <td>Domestic</td>\n",
       "      <td>No</td>\n",
       "    </tr>\n",
       "    <tr>\n",
       "      <th>4</th>\n",
       "      <td>Yellow</td>\n",
       "      <td>Sports</td>\n",
       "      <td>Imported</td>\n",
       "      <td>Yes</td>\n",
       "    </tr>\n",
       "    <tr>\n",
       "      <th>5</th>\n",
       "      <td>Yellow</td>\n",
       "      <td>SUV</td>\n",
       "      <td>Imported</td>\n",
       "      <td>No</td>\n",
       "    </tr>\n",
       "    <tr>\n",
       "      <th>6</th>\n",
       "      <td>Yellow</td>\n",
       "      <td>SUV</td>\n",
       "      <td>Imported</td>\n",
       "      <td>Yes</td>\n",
       "    </tr>\n",
       "    <tr>\n",
       "      <th>7</th>\n",
       "      <td>Yellow</td>\n",
       "      <td>SUV</td>\n",
       "      <td>Domestic</td>\n",
       "      <td>No</td>\n",
       "    </tr>\n",
       "    <tr>\n",
       "      <th>8</th>\n",
       "      <td>Red</td>\n",
       "      <td>SUV</td>\n",
       "      <td>Imported</td>\n",
       "      <td>No</td>\n",
       "    </tr>\n",
       "    <tr>\n",
       "      <th>9</th>\n",
       "      <td>Red</td>\n",
       "      <td>Sports</td>\n",
       "      <td>Imported</td>\n",
       "      <td>Yes</td>\n",
       "    </tr>\n",
       "  </tbody>\n",
       "</table>\n",
       "</div>"
      ],
      "text/plain": [
       "    Color    Type    Origin Stolen?\n",
       "0     Red  Sports  Domestic     Yes\n",
       "1     Red  Sports  Domestic      No\n",
       "2     Red  Sports  Domestic     Yes\n",
       "3  Yellow  Sports  Domestic      No\n",
       "4  Yellow  Sports  Imported     Yes\n",
       "5  Yellow     SUV  Imported      No\n",
       "6  Yellow     SUV  Imported     Yes\n",
       "7  Yellow     SUV  Domestic      No\n",
       "8     Red     SUV  Imported      No\n",
       "9     Red  Sports  Imported     Yes"
      ]
     },
     "execution_count": 32,
     "metadata": {},
     "output_type": "execute_result"
    }
   ],
   "source": [
    "df"
   ]
  },
  {
   "cell_type": "code",
   "execution_count": 33,
   "id": "7749456a",
   "metadata": {},
   "outputs": [
    {
     "name": "stdout",
     "output_type": "stream",
     "text": [
      "{'Color': {'YellowYes': 0.25, 'RedYes': 0.75, 'YellowNo': 0.6666666666666666, 'RedNo': 0.3333333333333333}, 'Type': {'SUVYes': 0.0, 'SportsYes': 1.0, 'SUVNo': 0.3333333333333333, 'SportsNo': 0.6666666666666666}, 'Origin': {'DomesticYes': 0.5, 'ImportedYes': 0.5, 'DomesticNo': 0.6666666666666666, 'ImportedNo': 0.3333333333333333}}\n"
     ]
    }
   ],
   "source": [
    "print(prop_dict)"
   ]
  },
  {
   "cell_type": "code",
   "execution_count": null,
   "id": "33ea6b7c",
   "metadata": {},
   "outputs": [],
   "source": []
  },
  {
   "cell_type": "code",
   "execution_count": null,
   "id": "cb1b646e",
   "metadata": {},
   "outputs": [],
   "source": []
  },
  {
   "cell_type": "code",
   "execution_count": null,
   "id": "f4343321",
   "metadata": {},
   "outputs": [],
   "source": []
  }
 ],
 "metadata": {
  "kernelspec": {
   "display_name": "Python 3 (ipykernel)",
   "language": "python",
   "name": "python3"
  },
  "language_info": {
   "codemirror_mode": {
    "name": "ipython",
    "version": 3
   },
   "file_extension": ".py",
   "mimetype": "text/x-python",
   "name": "python",
   "nbconvert_exporter": "python",
   "pygments_lexer": "ipython3",
   "version": "3.8.2"
  }
 },
 "nbformat": 4,
 "nbformat_minor": 5
}
